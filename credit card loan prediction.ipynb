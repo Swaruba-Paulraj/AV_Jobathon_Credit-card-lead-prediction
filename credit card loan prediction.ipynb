{
 "cells": [
  {
   "cell_type": "markdown",
   "metadata": {},
   "source": [
    "# Credit Card Lead Prediction"
   ]
  },
  {
   "cell_type": "code",
   "execution_count": 1,
   "metadata": {},
   "outputs": [],
   "source": [
    "# import libraries\n",
    "\n",
    "import pandas as pd\n",
    "import numpy as np\n",
    "import matplotlib.pyplot as plt\n",
    "import seaborn as sns\n",
    "\n",
    "from statsmodels.stats.outliers_influence import variance_inflation_factor\n",
    "from sklearn.feature_selection import RFE, RFECV\n",
    "from sklearn.metrics import f1_score\n",
    "from sklearn.model_selection import train_test_split\n",
    "from sklearn.linear_model import LogisticRegression\n",
    "from sklearn.neighbors import NearestNeighbors\n",
    "from sklearn.tree import DecisionTreeClassifier\n",
    "from sklearn.svm import SVC\n",
    "from sklearn.ensemble import RandomForestClassifier,AdaBoostClassifier, ExtraTreesClassifier,GradientBoostingClassifier\n",
    "from sklearn.metrics import classification_report, confusion_matrix, roc_auc_score, roc_curve\n",
    "from sklearn.model_selection import cross_val_score, KFold\n",
    "from imblearn.over_sampling import SMOTE\n",
    "from sklearn.utils import resample\n",
    "from sklearn.model_selection import GridSearchCV, RandomizedSearchCV\n",
    "from sklearn.model_selection import train_test_split, KFold, cross_val_score, GridSearchCV, RandomizedSearchCV,StratifiedKFold\n",
    "from sklearn.metrics import confusion_matrix, accuracy_score, roc_auc_score, recall_score,precision_score \n",
    "from sklearn.metrics import classification_report,cohen_kappa_score ,f1_score\n",
    "from sklearn.naive_bayes import GaussianNB\n",
    "from sklearn.neighbors import KNeighborsClassifier\n",
    "from sklearn.tree import DecisionTreeClassifier\n",
    "from sklearn.ensemble import RandomForestClassifier, AdaBoostClassifier, GradientBoostingClassifier, BaggingClassifier,\\\n",
    "StackingClassifier\n",
    "from xgboost import XGBClassifier\n",
    "from sklearn.preprocessing import StandardScaler, LabelEncoder\n",
    "\n",
    "import warnings\n",
    "warnings.filterwarnings(\"ignore\")"
   ]
  },
  {
   "cell_type": "code",
   "execution_count": 2,
   "metadata": {},
   "outputs": [],
   "source": [
    "plt.rcParams['figure.figsize'] = [15,10]"
   ]
  },
  {
   "cell_type": "markdown",
   "metadata": {},
   "source": [
    "## Data understanding"
   ]
  },
  {
   "cell_type": "code",
   "execution_count": 3,
   "metadata": {},
   "outputs": [
    {
     "data": {
      "text/html": [
       "<div>\n",
       "<style scoped>\n",
       "    .dataframe tbody tr th:only-of-type {\n",
       "        vertical-align: middle;\n",
       "    }\n",
       "\n",
       "    .dataframe tbody tr th {\n",
       "        vertical-align: top;\n",
       "    }\n",
       "\n",
       "    .dataframe thead th {\n",
       "        text-align: right;\n",
       "    }\n",
       "</style>\n",
       "<table border=\"1\" class=\"dataframe\">\n",
       "  <thead>\n",
       "    <tr style=\"text-align: right;\">\n",
       "      <th></th>\n",
       "      <th>ID</th>\n",
       "      <th>Gender</th>\n",
       "      <th>Age</th>\n",
       "      <th>Region_Code</th>\n",
       "      <th>Occupation</th>\n",
       "      <th>Channel_Code</th>\n",
       "      <th>Vintage</th>\n",
       "      <th>Credit_Product</th>\n",
       "      <th>Avg_Account_Balance</th>\n",
       "      <th>Is_Active</th>\n",
       "      <th>Is_Lead</th>\n",
       "    </tr>\n",
       "  </thead>\n",
       "  <tbody>\n",
       "    <tr>\n",
       "      <th>0</th>\n",
       "      <td>NNVBBKZB</td>\n",
       "      <td>Female</td>\n",
       "      <td>73</td>\n",
       "      <td>RG268</td>\n",
       "      <td>Other</td>\n",
       "      <td>X3</td>\n",
       "      <td>43</td>\n",
       "      <td>No</td>\n",
       "      <td>1045696</td>\n",
       "      <td>No</td>\n",
       "      <td>0</td>\n",
       "    </tr>\n",
       "    <tr>\n",
       "      <th>1</th>\n",
       "      <td>IDD62UNG</td>\n",
       "      <td>Female</td>\n",
       "      <td>30</td>\n",
       "      <td>RG277</td>\n",
       "      <td>Salaried</td>\n",
       "      <td>X1</td>\n",
       "      <td>32</td>\n",
       "      <td>No</td>\n",
       "      <td>581988</td>\n",
       "      <td>No</td>\n",
       "      <td>0</td>\n",
       "    </tr>\n",
       "    <tr>\n",
       "      <th>2</th>\n",
       "      <td>HD3DSEMC</td>\n",
       "      <td>Female</td>\n",
       "      <td>56</td>\n",
       "      <td>RG268</td>\n",
       "      <td>Self_Employed</td>\n",
       "      <td>X3</td>\n",
       "      <td>26</td>\n",
       "      <td>No</td>\n",
       "      <td>1484315</td>\n",
       "      <td>Yes</td>\n",
       "      <td>0</td>\n",
       "    </tr>\n",
       "    <tr>\n",
       "      <th>3</th>\n",
       "      <td>BF3NC7KV</td>\n",
       "      <td>Male</td>\n",
       "      <td>34</td>\n",
       "      <td>RG270</td>\n",
       "      <td>Salaried</td>\n",
       "      <td>X1</td>\n",
       "      <td>19</td>\n",
       "      <td>No</td>\n",
       "      <td>470454</td>\n",
       "      <td>No</td>\n",
       "      <td>0</td>\n",
       "    </tr>\n",
       "    <tr>\n",
       "      <th>4</th>\n",
       "      <td>TEASRWXV</td>\n",
       "      <td>Female</td>\n",
       "      <td>30</td>\n",
       "      <td>RG282</td>\n",
       "      <td>Salaried</td>\n",
       "      <td>X1</td>\n",
       "      <td>33</td>\n",
       "      <td>No</td>\n",
       "      <td>886787</td>\n",
       "      <td>No</td>\n",
       "      <td>0</td>\n",
       "    </tr>\n",
       "  </tbody>\n",
       "</table>\n",
       "</div>"
      ],
      "text/plain": [
       "         ID  Gender  Age Region_Code     Occupation Channel_Code  Vintage  \\\n",
       "0  NNVBBKZB  Female   73       RG268          Other           X3       43   \n",
       "1  IDD62UNG  Female   30       RG277       Salaried           X1       32   \n",
       "2  HD3DSEMC  Female   56       RG268  Self_Employed           X3       26   \n",
       "3  BF3NC7KV    Male   34       RG270       Salaried           X1       19   \n",
       "4  TEASRWXV  Female   30       RG282       Salaried           X1       33   \n",
       "\n",
       "  Credit_Product  Avg_Account_Balance Is_Active  Is_Lead  \n",
       "0             No              1045696        No        0  \n",
       "1             No               581988        No        0  \n",
       "2             No              1484315       Yes        0  \n",
       "3             No               470454        No        0  \n",
       "4             No               886787        No        0  "
      ]
     },
     "execution_count": 3,
     "metadata": {},
     "output_type": "execute_result"
    }
   ],
   "source": [
    "#load the train dataset\n",
    "df_train = pd.read_csv('train_s3TEQDk.csv')\n",
    "df_train.head()"
   ]
  },
  {
   "cell_type": "code",
   "execution_count": 4,
   "metadata": {},
   "outputs": [
    {
     "data": {
      "text/html": [
       "<div>\n",
       "<style scoped>\n",
       "    .dataframe tbody tr th:only-of-type {\n",
       "        vertical-align: middle;\n",
       "    }\n",
       "\n",
       "    .dataframe tbody tr th {\n",
       "        vertical-align: top;\n",
       "    }\n",
       "\n",
       "    .dataframe thead th {\n",
       "        text-align: right;\n",
       "    }\n",
       "</style>\n",
       "<table border=\"1\" class=\"dataframe\">\n",
       "  <thead>\n",
       "    <tr style=\"text-align: right;\">\n",
       "      <th></th>\n",
       "      <th>ID</th>\n",
       "      <th>Gender</th>\n",
       "      <th>Age</th>\n",
       "      <th>Region_Code</th>\n",
       "      <th>Occupation</th>\n",
       "      <th>Channel_Code</th>\n",
       "      <th>Vintage</th>\n",
       "      <th>Credit_Product</th>\n",
       "      <th>Avg_Account_Balance</th>\n",
       "      <th>Is_Active</th>\n",
       "    </tr>\n",
       "  </thead>\n",
       "  <tbody>\n",
       "    <tr>\n",
       "      <th>0</th>\n",
       "      <td>VBENBARO</td>\n",
       "      <td>Male</td>\n",
       "      <td>29</td>\n",
       "      <td>RG254</td>\n",
       "      <td>Other</td>\n",
       "      <td>X1</td>\n",
       "      <td>25</td>\n",
       "      <td>Yes</td>\n",
       "      <td>742366</td>\n",
       "      <td>No</td>\n",
       "    </tr>\n",
       "    <tr>\n",
       "      <th>1</th>\n",
       "      <td>CCMEWNKY</td>\n",
       "      <td>Male</td>\n",
       "      <td>43</td>\n",
       "      <td>RG268</td>\n",
       "      <td>Other</td>\n",
       "      <td>X2</td>\n",
       "      <td>49</td>\n",
       "      <td>NaN</td>\n",
       "      <td>925537</td>\n",
       "      <td>No</td>\n",
       "    </tr>\n",
       "    <tr>\n",
       "      <th>2</th>\n",
       "      <td>VK3KGA9M</td>\n",
       "      <td>Male</td>\n",
       "      <td>31</td>\n",
       "      <td>RG270</td>\n",
       "      <td>Salaried</td>\n",
       "      <td>X1</td>\n",
       "      <td>14</td>\n",
       "      <td>No</td>\n",
       "      <td>215949</td>\n",
       "      <td>No</td>\n",
       "    </tr>\n",
       "    <tr>\n",
       "      <th>3</th>\n",
       "      <td>TT8RPZVC</td>\n",
       "      <td>Male</td>\n",
       "      <td>29</td>\n",
       "      <td>RG272</td>\n",
       "      <td>Other</td>\n",
       "      <td>X1</td>\n",
       "      <td>33</td>\n",
       "      <td>No</td>\n",
       "      <td>868070</td>\n",
       "      <td>No</td>\n",
       "    </tr>\n",
       "    <tr>\n",
       "      <th>4</th>\n",
       "      <td>SHQZEYTZ</td>\n",
       "      <td>Female</td>\n",
       "      <td>29</td>\n",
       "      <td>RG270</td>\n",
       "      <td>Other</td>\n",
       "      <td>X1</td>\n",
       "      <td>19</td>\n",
       "      <td>No</td>\n",
       "      <td>657087</td>\n",
       "      <td>No</td>\n",
       "    </tr>\n",
       "  </tbody>\n",
       "</table>\n",
       "</div>"
      ],
      "text/plain": [
       "         ID  Gender  Age Region_Code Occupation Channel_Code  Vintage  \\\n",
       "0  VBENBARO    Male   29       RG254      Other           X1       25   \n",
       "1  CCMEWNKY    Male   43       RG268      Other           X2       49   \n",
       "2  VK3KGA9M    Male   31       RG270   Salaried           X1       14   \n",
       "3  TT8RPZVC    Male   29       RG272      Other           X1       33   \n",
       "4  SHQZEYTZ  Female   29       RG270      Other           X1       19   \n",
       "\n",
       "  Credit_Product  Avg_Account_Balance Is_Active  \n",
       "0            Yes               742366        No  \n",
       "1            NaN               925537        No  \n",
       "2             No               215949        No  \n",
       "3             No               868070        No  \n",
       "4             No               657087        No  "
      ]
     },
     "execution_count": 4,
     "metadata": {},
     "output_type": "execute_result"
    }
   ],
   "source": [
    "#load the test dataset\n",
    "df_test = pd.read_csv('test_mSzZ8RL.csv')\n",
    "df_test.head()"
   ]
  },
  {
   "cell_type": "code",
   "execution_count": 5,
   "metadata": {},
   "outputs": [
    {
     "data": {
      "text/plain": [
       "((245725, 11), (105312, 10))"
      ]
     },
     "execution_count": 5,
     "metadata": {},
     "output_type": "execute_result"
    }
   ],
   "source": [
    "#rows and columns of train and test dataset\n",
    "df_train.shape,df_test.shape"
   ]
  },
  {
   "cell_type": "code",
   "execution_count": 6,
   "metadata": {},
   "outputs": [
    {
     "data": {
      "text/plain": [
       "ID                     object\n",
       "Gender                 object\n",
       "Age                     int64\n",
       "Region_Code            object\n",
       "Occupation             object\n",
       "Channel_Code           object\n",
       "Vintage                 int64\n",
       "Credit_Product         object\n",
       "Avg_Account_Balance     int64\n",
       "Is_Active              object\n",
       "Is_Lead                 int64\n",
       "dtype: object"
      ]
     },
     "execution_count": 6,
     "metadata": {},
     "output_type": "execute_result"
    }
   ],
   "source": [
    "#datatypes in train set\n",
    "df_train.dtypes"
   ]
  },
  {
   "cell_type": "code",
   "execution_count": 7,
   "metadata": {},
   "outputs": [
    {
     "data": {
      "text/plain": [
       "ID                     object\n",
       "Gender                 object\n",
       "Age                     int64\n",
       "Region_Code            object\n",
       "Occupation             object\n",
       "Channel_Code           object\n",
       "Vintage                 int64\n",
       "Credit_Product         object\n",
       "Avg_Account_Balance     int64\n",
       "Is_Active              object\n",
       "dtype: object"
      ]
     },
     "execution_count": 7,
     "metadata": {},
     "output_type": "execute_result"
    }
   ],
   "source": [
    "#datatypes in test set\n",
    "df_test.dtypes"
   ]
  },
  {
   "cell_type": "code",
   "execution_count": 8,
   "metadata": {},
   "outputs": [
    {
     "data": {
      "text/plain": [
       "ID                      0.000000\n",
       "Gender                  0.000000\n",
       "Age                     0.000000\n",
       "Region_Code             0.000000\n",
       "Occupation              0.000000\n",
       "Channel_Code            0.000000\n",
       "Vintage                 0.000000\n",
       "Credit_Product         11.934073\n",
       "Avg_Account_Balance     0.000000\n",
       "Is_Active               0.000000\n",
       "Is_Lead                 0.000000\n",
       "dtype: float64"
      ]
     },
     "execution_count": 8,
     "metadata": {},
     "output_type": "execute_result"
    }
   ],
   "source": [
    "#check the null values in train set\n",
    "df_train.isnull().sum()/len(df_train)*100"
   ]
  },
  {
   "cell_type": "code",
   "execution_count": 9,
   "metadata": {},
   "outputs": [
    {
     "data": {
      "text/plain": [
       "ID                      0.000000\n",
       "Gender                  0.000000\n",
       "Age                     0.000000\n",
       "Region_Code             0.000000\n",
       "Occupation              0.000000\n",
       "Channel_Code            0.000000\n",
       "Vintage                 0.000000\n",
       "Credit_Product         11.890383\n",
       "Avg_Account_Balance     0.000000\n",
       "Is_Active               0.000000\n",
       "dtype: float64"
      ]
     },
     "execution_count": 9,
     "metadata": {},
     "output_type": "execute_result"
    }
   ],
   "source": [
    "#check the null values in test set\n",
    "df_test.isnull().sum()/len(df_test)*100"
   ]
  },
  {
   "cell_type": "markdown",
   "metadata": {},
   "source": [
    "### There are null values in the variable \"credit_product\" in both train and test data"
   ]
  },
  {
   "cell_type": "code",
   "execution_count": 10,
   "metadata": {},
   "outputs": [
    {
     "data": {
      "text/plain": [
       "Index(['ID', 'Gender', 'Region_Code', 'Occupation', 'Channel_Code',\n",
       "       'Credit_Product', 'Is_Active'],\n",
       "      dtype='object')"
      ]
     },
     "execution_count": 10,
     "metadata": {},
     "output_type": "execute_result"
    }
   ],
   "source": [
    "#extracting the categorical columns name for train data\n",
    "cat_col = df_train.select_dtypes(include='object').columns\n",
    "cat_col"
   ]
  },
  {
   "cell_type": "code",
   "execution_count": 11,
   "metadata": {},
   "outputs": [
    {
     "name": "stdout",
     "output_type": "stream",
     "text": [
      "\n",
      " IJQVGH4G    1\n",
      "SJFDRLGW    1\n",
      "UQX8CZUY    1\n",
      "MRXDVPTS    1\n",
      "NVYF2ZPU    1\n",
      "           ..\n",
      "ZQ4HPAAU    1\n",
      "F2GB5CFF    1\n",
      "9E6L7CFD    1\n",
      "CV8VDFBW    1\n",
      "LGTD2BMS    1\n",
      "Name: ID, Length: 245725, dtype: int64 \n",
      "\n",
      "*************************************************************************************\n",
      "\n",
      " Male      134197\n",
      "Female    111528\n",
      "Name: Gender, dtype: int64 \n",
      "\n",
      "*************************************************************************************\n",
      "\n",
      " RG268    35934\n",
      "RG283    29416\n",
      "RG254    26840\n",
      "RG284    19320\n",
      "RG277    12826\n",
      "RG280    12775\n",
      "RG269     7863\n",
      "RG270     7720\n",
      "RG261     7633\n",
      "RG257     6101\n",
      "RG251     5950\n",
      "RG282     5829\n",
      "RG274     5286\n",
      "RG272     5252\n",
      "RG281     5093\n",
      "RG273     4497\n",
      "RG252     4286\n",
      "RG279     3976\n",
      "RG263     3687\n",
      "RG275     3245\n",
      "RG260     3110\n",
      "RG256     2847\n",
      "RG264     2793\n",
      "RG276     2764\n",
      "RG259     2586\n",
      "RG250     2496\n",
      "RG255     2018\n",
      "RG258     1951\n",
      "RG253     1858\n",
      "RG278     1822\n",
      "RG262     1788\n",
      "RG266     1578\n",
      "RG265     1546\n",
      "RG271     1542\n",
      "RG267     1497\n",
      "Name: Region_Code, dtype: int64 \n",
      "\n",
      "*************************************************************************************\n",
      "\n",
      " Self_Employed    100886\n",
      "Salaried          71999\n",
      "Other             70173\n",
      "Entrepreneur       2667\n",
      "Name: Occupation, dtype: int64 \n",
      "\n",
      "*************************************************************************************\n",
      "\n",
      " X1    103718\n",
      "X3     68712\n",
      "X2     67726\n",
      "X4      5569\n",
      "Name: Channel_Code, dtype: int64 \n",
      "\n",
      "*************************************************************************************\n",
      "\n",
      " No     144357\n",
      "Yes     72043\n",
      "Name: Credit_Product, dtype: int64 \n",
      "\n",
      "*************************************************************************************\n",
      "\n",
      " No     150290\n",
      "Yes     95435\n",
      "Name: Is_Active, dtype: int64 \n",
      "\n",
      "*************************************************************************************\n"
     ]
    }
   ],
   "source": [
    "#counts in each category in train\n",
    "for i in cat_col:\n",
    "    print('\\n',df_train[i].value_counts(),'\\n')\n",
    "    print('*'*85)"
   ]
  },
  {
   "cell_type": "code",
   "execution_count": 12,
   "metadata": {},
   "outputs": [
    {
     "data": {
      "text/plain": [
       "Index(['ID', 'Gender', 'Region_Code', 'Occupation', 'Channel_Code',\n",
       "       'Credit_Product', 'Is_Active'],\n",
       "      dtype='object')"
      ]
     },
     "execution_count": 12,
     "metadata": {},
     "output_type": "execute_result"
    }
   ],
   "source": [
    "#extracting the categorical columns name for test data\n",
    "cat_col_test = df_test.select_dtypes(include='object').columns\n",
    "cat_col_test"
   ]
  },
  {
   "cell_type": "code",
   "execution_count": 13,
   "metadata": {},
   "outputs": [
    {
     "name": "stdout",
     "output_type": "stream",
     "text": [
      "\n",
      " CODNJVV2    1\n",
      "NANZCMCE    1\n",
      "RWUQGUXO    1\n",
      "UUQSXK5T    1\n",
      "2AADFPXK    1\n",
      "           ..\n",
      "PJNMQZME    1\n",
      "NPBSPKFX    1\n",
      "8NZXFHTU    1\n",
      "BQUCWFL7    1\n",
      "I45PNTSC    1\n",
      "Name: ID, Length: 105312, dtype: int64 \n",
      "\n",
      "*************************************************************************************\n",
      "\n",
      " Male      57705\n",
      "Female    47607\n",
      "Name: Gender, dtype: int64 \n",
      "\n",
      "*************************************************************************************\n",
      "\n",
      " RG268    15125\n",
      "RG283    12881\n",
      "RG254    11737\n",
      "RG284     8173\n",
      "RG277     5596\n",
      "RG280     5529\n",
      "RG270     3440\n",
      "RG269     3288\n",
      "RG261     3286\n",
      "RG251     2678\n",
      "RG257     2588\n",
      "RG272     2338\n",
      "RG282     2337\n",
      "RG274     2208\n",
      "RG281     2144\n",
      "RG252     1811\n",
      "RG273     1803\n",
      "RG263     1615\n",
      "RG279     1600\n",
      "RG275     1383\n",
      "RG260     1300\n",
      "RG264     1241\n",
      "RG256     1194\n",
      "RG276     1185\n",
      "RG259     1102\n",
      "RG250     1048\n",
      "RG255      891\n",
      "RG278      824\n",
      "RG258      812\n",
      "RG253      810\n",
      "RG262      800\n",
      "RG265      668\n",
      "RG271      654\n",
      "RG266      631\n",
      "RG267      592\n",
      "Name: Region_Code, dtype: int64 \n",
      "\n",
      "*************************************************************************************\n",
      "\n",
      " Self_Employed    43192\n",
      "Salaried         30913\n",
      "Other            30131\n",
      "Entrepreneur      1076\n",
      "Name: Occupation, dtype: int64 \n",
      "\n",
      "*************************************************************************************\n",
      "\n",
      " X1    44484\n",
      "X3    29269\n",
      "X2    29176\n",
      "X4     2383\n",
      "Name: Channel_Code, dtype: int64 \n",
      "\n",
      "*************************************************************************************\n",
      "\n",
      " No     61608\n",
      "Yes    31182\n",
      "Name: Credit_Product, dtype: int64 \n",
      "\n",
      "*************************************************************************************\n",
      "\n",
      " No     63797\n",
      "Yes    41515\n",
      "Name: Is_Active, dtype: int64 \n",
      "\n",
      "*************************************************************************************\n"
     ]
    }
   ],
   "source": [
    "#counts in each category in test\n",
    "for i in cat_col:\n",
    "    print('\\n',df_test[i].value_counts(),'\\n')\n",
    "    print('*'*85)"
   ]
  },
  {
   "cell_type": "markdown",
   "metadata": {},
   "source": [
    "#### missing value imputation"
   ]
  },
  {
   "cell_type": "code",
   "execution_count": 14,
   "metadata": {},
   "outputs": [],
   "source": [
    "#fill the missing value in train\n",
    "df_train['Credit_Product']=df_train['Credit_Product'].fillna(df_train['Credit_Product'].mode()[0])"
   ]
  },
  {
   "cell_type": "code",
   "execution_count": 15,
   "metadata": {},
   "outputs": [],
   "source": [
    "#fill the missing value in test\n",
    "df_test['Credit_Product']=df_test['Credit_Product'].fillna(df_test['Credit_Product'].mode()[0])"
   ]
  },
  {
   "cell_type": "code",
   "execution_count": 16,
   "metadata": {},
   "outputs": [
    {
     "data": {
      "text/plain": [
       "ID                     0\n",
       "Gender                 0\n",
       "Age                    0\n",
       "Region_Code            0\n",
       "Occupation             0\n",
       "Channel_Code           0\n",
       "Vintage                0\n",
       "Credit_Product         0\n",
       "Avg_Account_Balance    0\n",
       "Is_Active              0\n",
       "Is_Lead                0\n",
       "dtype: int64"
      ]
     },
     "execution_count": 16,
     "metadata": {},
     "output_type": "execute_result"
    }
   ],
   "source": [
    "#check the null values after imputation\n",
    "df_train.isnull().sum()"
   ]
  },
  {
   "cell_type": "code",
   "execution_count": 17,
   "metadata": {},
   "outputs": [
    {
     "data": {
      "text/plain": [
       "ID                     0\n",
       "Gender                 0\n",
       "Age                    0\n",
       "Region_Code            0\n",
       "Occupation             0\n",
       "Channel_Code           0\n",
       "Vintage                0\n",
       "Credit_Product         0\n",
       "Avg_Account_Balance    0\n",
       "Is_Active              0\n",
       "dtype: int64"
      ]
     },
     "execution_count": 17,
     "metadata": {},
     "output_type": "execute_result"
    }
   ],
   "source": [
    "#check the null values after imputation\n",
    "df_test.isnull().sum()"
   ]
  },
  {
   "cell_type": "code",
   "execution_count": 18,
   "metadata": {},
   "outputs": [
    {
     "data": {
      "text/html": [
       "<div>\n",
       "<style scoped>\n",
       "    .dataframe tbody tr th:only-of-type {\n",
       "        vertical-align: middle;\n",
       "    }\n",
       "\n",
       "    .dataframe tbody tr th {\n",
       "        vertical-align: top;\n",
       "    }\n",
       "\n",
       "    .dataframe thead th {\n",
       "        text-align: right;\n",
       "    }\n",
       "</style>\n",
       "<table border=\"1\" class=\"dataframe\">\n",
       "  <thead>\n",
       "    <tr style=\"text-align: right;\">\n",
       "      <th></th>\n",
       "      <th>Age</th>\n",
       "      <th>Vintage</th>\n",
       "      <th>Avg_Account_Balance</th>\n",
       "      <th>Is_Lead</th>\n",
       "    </tr>\n",
       "  </thead>\n",
       "  <tbody>\n",
       "    <tr>\n",
       "      <th>count</th>\n",
       "      <td>245725.000000</td>\n",
       "      <td>245725.000000</td>\n",
       "      <td>2.457250e+05</td>\n",
       "      <td>245725.000000</td>\n",
       "    </tr>\n",
       "    <tr>\n",
       "      <th>mean</th>\n",
       "      <td>43.856307</td>\n",
       "      <td>46.959141</td>\n",
       "      <td>1.128403e+06</td>\n",
       "      <td>0.237208</td>\n",
       "    </tr>\n",
       "    <tr>\n",
       "      <th>std</th>\n",
       "      <td>14.828672</td>\n",
       "      <td>32.353136</td>\n",
       "      <td>8.529364e+05</td>\n",
       "      <td>0.425372</td>\n",
       "    </tr>\n",
       "    <tr>\n",
       "      <th>min</th>\n",
       "      <td>23.000000</td>\n",
       "      <td>7.000000</td>\n",
       "      <td>2.079000e+04</td>\n",
       "      <td>0.000000</td>\n",
       "    </tr>\n",
       "    <tr>\n",
       "      <th>25%</th>\n",
       "      <td>30.000000</td>\n",
       "      <td>20.000000</td>\n",
       "      <td>6.043100e+05</td>\n",
       "      <td>0.000000</td>\n",
       "    </tr>\n",
       "    <tr>\n",
       "      <th>50%</th>\n",
       "      <td>43.000000</td>\n",
       "      <td>32.000000</td>\n",
       "      <td>8.946010e+05</td>\n",
       "      <td>0.000000</td>\n",
       "    </tr>\n",
       "    <tr>\n",
       "      <th>75%</th>\n",
       "      <td>54.000000</td>\n",
       "      <td>73.000000</td>\n",
       "      <td>1.366666e+06</td>\n",
       "      <td>0.000000</td>\n",
       "    </tr>\n",
       "    <tr>\n",
       "      <th>max</th>\n",
       "      <td>85.000000</td>\n",
       "      <td>135.000000</td>\n",
       "      <td>1.035201e+07</td>\n",
       "      <td>1.000000</td>\n",
       "    </tr>\n",
       "  </tbody>\n",
       "</table>\n",
       "</div>"
      ],
      "text/plain": [
       "                 Age        Vintage  Avg_Account_Balance        Is_Lead\n",
       "count  245725.000000  245725.000000         2.457250e+05  245725.000000\n",
       "mean       43.856307      46.959141         1.128403e+06       0.237208\n",
       "std        14.828672      32.353136         8.529364e+05       0.425372\n",
       "min        23.000000       7.000000         2.079000e+04       0.000000\n",
       "25%        30.000000      20.000000         6.043100e+05       0.000000\n",
       "50%        43.000000      32.000000         8.946010e+05       0.000000\n",
       "75%        54.000000      73.000000         1.366666e+06       0.000000\n",
       "max        85.000000     135.000000         1.035201e+07       1.000000"
      ]
     },
     "execution_count": 18,
     "metadata": {},
     "output_type": "execute_result"
    }
   ],
   "source": [
    "#summary statistics in train\n",
    "df_train.describe()"
   ]
  },
  {
   "cell_type": "code",
   "execution_count": 19,
   "metadata": {},
   "outputs": [
    {
     "data": {
      "text/html": [
       "<div>\n",
       "<style scoped>\n",
       "    .dataframe tbody tr th:only-of-type {\n",
       "        vertical-align: middle;\n",
       "    }\n",
       "\n",
       "    .dataframe tbody tr th {\n",
       "        vertical-align: top;\n",
       "    }\n",
       "\n",
       "    .dataframe thead th {\n",
       "        text-align: right;\n",
       "    }\n",
       "</style>\n",
       "<table border=\"1\" class=\"dataframe\">\n",
       "  <thead>\n",
       "    <tr style=\"text-align: right;\">\n",
       "      <th></th>\n",
       "      <th>Age</th>\n",
       "      <th>Vintage</th>\n",
       "      <th>Avg_Account_Balance</th>\n",
       "    </tr>\n",
       "  </thead>\n",
       "  <tbody>\n",
       "    <tr>\n",
       "      <th>count</th>\n",
       "      <td>105312.000000</td>\n",
       "      <td>105312.000000</td>\n",
       "      <td>1.053120e+05</td>\n",
       "    </tr>\n",
       "    <tr>\n",
       "      <th>mean</th>\n",
       "      <td>43.871002</td>\n",
       "      <td>46.842819</td>\n",
       "      <td>1.134195e+06</td>\n",
       "    </tr>\n",
       "    <tr>\n",
       "      <th>std</th>\n",
       "      <td>14.872890</td>\n",
       "      <td>32.273634</td>\n",
       "      <td>8.662430e+05</td>\n",
       "    </tr>\n",
       "    <tr>\n",
       "      <th>min</th>\n",
       "      <td>24.000000</td>\n",
       "      <td>7.000000</td>\n",
       "      <td>2.259700e+04</td>\n",
       "    </tr>\n",
       "    <tr>\n",
       "      <th>25%</th>\n",
       "      <td>30.000000</td>\n",
       "      <td>20.000000</td>\n",
       "      <td>6.039822e+05</td>\n",
       "    </tr>\n",
       "    <tr>\n",
       "      <th>50%</th>\n",
       "      <td>43.000000</td>\n",
       "      <td>32.000000</td>\n",
       "      <td>8.966345e+05</td>\n",
       "    </tr>\n",
       "    <tr>\n",
       "      <th>75%</th>\n",
       "      <td>54.000000</td>\n",
       "      <td>73.000000</td>\n",
       "      <td>1.371598e+06</td>\n",
       "    </tr>\n",
       "    <tr>\n",
       "      <th>max</th>\n",
       "      <td>85.000000</td>\n",
       "      <td>135.000000</td>\n",
       "      <td>9.908858e+06</td>\n",
       "    </tr>\n",
       "  </tbody>\n",
       "</table>\n",
       "</div>"
      ],
      "text/plain": [
       "                 Age        Vintage  Avg_Account_Balance\n",
       "count  105312.000000  105312.000000         1.053120e+05\n",
       "mean       43.871002      46.842819         1.134195e+06\n",
       "std        14.872890      32.273634         8.662430e+05\n",
       "min        24.000000       7.000000         2.259700e+04\n",
       "25%        30.000000      20.000000         6.039822e+05\n",
       "50%        43.000000      32.000000         8.966345e+05\n",
       "75%        54.000000      73.000000         1.371598e+06\n",
       "max        85.000000     135.000000         9.908858e+06"
      ]
     },
     "execution_count": 19,
     "metadata": {},
     "output_type": "execute_result"
    }
   ],
   "source": [
    "#summary statistics in test\n",
    "df_test.describe()"
   ]
  },
  {
   "cell_type": "code",
   "execution_count": 20,
   "metadata": {},
   "outputs": [
    {
     "name": "stdout",
     "output_type": "stream",
     "text": [
      "ID : 245725\n",
      "Gender : 2\n",
      "Age : 63\n",
      "Region_Code : 35\n",
      "Occupation : 4\n",
      "Channel_Code : 4\n",
      "Vintage : 66\n",
      "Credit_Product : 2\n",
      "Avg_Account_Balance : 135292\n",
      "Is_Active : 2\n",
      "Is_Lead : 2\n"
     ]
    }
   ],
   "source": [
    "# checking number of unique values in each columns\n",
    "for col in df_train.columns:\n",
    "    print(col,':',df_train[col].nunique())"
   ]
  },
  {
   "cell_type": "code",
   "execution_count": 21,
   "metadata": {},
   "outputs": [
    {
     "name": "stdout",
     "output_type": "stream",
     "text": [
      "ID : 105312\n",
      "Gender : 2\n",
      "Age : 62\n",
      "Region_Code : 35\n",
      "Occupation : 4\n",
      "Channel_Code : 4\n",
      "Vintage : 66\n",
      "Credit_Product : 2\n",
      "Avg_Account_Balance : 78315\n",
      "Is_Active : 2\n"
     ]
    }
   ],
   "source": [
    "# checking number of unique values in each columns\n",
    "for col in df_test.columns:\n",
    "    print(col,':',df_test[col].nunique())"
   ]
  },
  {
   "cell_type": "code",
   "execution_count": 22,
   "metadata": {},
   "outputs": [
    {
     "data": {
      "text/html": [
       "<div>\n",
       "<style scoped>\n",
       "    .dataframe tbody tr th:only-of-type {\n",
       "        vertical-align: middle;\n",
       "    }\n",
       "\n",
       "    .dataframe tbody tr th {\n",
       "        vertical-align: top;\n",
       "    }\n",
       "\n",
       "    .dataframe thead th {\n",
       "        text-align: right;\n",
       "    }\n",
       "</style>\n",
       "<table border=\"1\" class=\"dataframe\">\n",
       "  <thead>\n",
       "    <tr style=\"text-align: right;\">\n",
       "      <th></th>\n",
       "      <th>Skewness</th>\n",
       "      <th>Kurtosis</th>\n",
       "    </tr>\n",
       "  </thead>\n",
       "  <tbody>\n",
       "    <tr>\n",
       "      <th>Age</th>\n",
       "      <td>0.618992</td>\n",
       "      <td>-0.441273</td>\n",
       "    </tr>\n",
       "    <tr>\n",
       "      <th>Vintage</th>\n",
       "      <td>0.790189</td>\n",
       "      <td>-0.696540</td>\n",
       "    </tr>\n",
       "    <tr>\n",
       "      <th>Avg_Account_Balance</th>\n",
       "      <td>2.968727</td>\n",
       "      <td>14.304594</td>\n",
       "    </tr>\n",
       "  </tbody>\n",
       "</table>\n",
       "</div>"
      ],
      "text/plain": [
       "                     Skewness   Kurtosis\n",
       "Age                  0.618992  -0.441273\n",
       "Vintage              0.790189  -0.696540\n",
       "Avg_Account_Balance  2.968727  14.304594"
      ]
     },
     "execution_count": 22,
     "metadata": {},
     "output_type": "execute_result"
    }
   ],
   "source": [
    "# skewness & kurtosis in train\n",
    "pd.DataFrame({\"Skewness\": df_train[['Age','Vintage','Avg_Account_Balance']].skew(), \"Kurtosis\": df_train[['Age','Vintage','Avg_Account_Balance']].kurt()})"
   ]
  },
  {
   "cell_type": "code",
   "execution_count": 23,
   "metadata": {},
   "outputs": [
    {
     "data": {
      "text/html": [
       "<div>\n",
       "<style scoped>\n",
       "    .dataframe tbody tr th:only-of-type {\n",
       "        vertical-align: middle;\n",
       "    }\n",
       "\n",
       "    .dataframe tbody tr th {\n",
       "        vertical-align: top;\n",
       "    }\n",
       "\n",
       "    .dataframe thead th {\n",
       "        text-align: right;\n",
       "    }\n",
       "</style>\n",
       "<table border=\"1\" class=\"dataframe\">\n",
       "  <thead>\n",
       "    <tr style=\"text-align: right;\">\n",
       "      <th></th>\n",
       "      <th>Skewness</th>\n",
       "      <th>Kurtosis</th>\n",
       "    </tr>\n",
       "  </thead>\n",
       "  <tbody>\n",
       "    <tr>\n",
       "      <th>Age</th>\n",
       "      <td>0.628495</td>\n",
       "      <td>-0.423121</td>\n",
       "    </tr>\n",
       "    <tr>\n",
       "      <th>Vintage</th>\n",
       "      <td>0.791252</td>\n",
       "      <td>-0.689137</td>\n",
       "    </tr>\n",
       "    <tr>\n",
       "      <th>Avg_Account_Balance</th>\n",
       "      <td>2.998225</td>\n",
       "      <td>14.430061</td>\n",
       "    </tr>\n",
       "  </tbody>\n",
       "</table>\n",
       "</div>"
      ],
      "text/plain": [
       "                     Skewness   Kurtosis\n",
       "Age                  0.628495  -0.423121\n",
       "Vintage              0.791252  -0.689137\n",
       "Avg_Account_Balance  2.998225  14.430061"
      ]
     },
     "execution_count": 23,
     "metadata": {},
     "output_type": "execute_result"
    }
   ],
   "source": [
    "# skewness & kurtosis in test\n",
    "pd.DataFrame({\"Skewness\": df_test.skew(), \"Kurtosis\": df_test.kurt()})"
   ]
  },
  {
   "cell_type": "markdown",
   "metadata": {},
   "source": [
    "##### There is skewness and kurtosis in the feature 'Avg_Account_Balance'"
   ]
  },
  {
   "cell_type": "code",
   "execution_count": 24,
   "metadata": {},
   "outputs": [
    {
     "data": {
      "image/png": "[encoded data removed]",
      "text/plain": [
       "<Figure size 1080x720 with 1 Axes>"
      ]
     },
     "metadata": {
      "needs_background": "light"
     },
     "output_type": "display_data"
    }
   ],
   "source": [
    "#check distribution for 'Avg_Account_Balance' using distplot in train data\n",
    "sns.distplot(df_train['Avg_Account_Balance'])\n",
    "plt.show()"
   ]
  },
  {
   "cell_type": "code",
   "execution_count": 25,
   "metadata": {
    "scrolled": true
   },
   "outputs": [
    {
     "data": {
      "image/png": "[encoded data removed]",
      "text/plain": [
       "<Figure size 1080x720 with 1 Axes>"
      ]
     },
     "metadata": {
      "needs_background": "light"
     },
     "output_type": "display_data"
    }
   ],
   "source": [
    "#check distribution for 'Avg_Account_Balance' using distplot in test data\n",
    "sns.distplot(df_test['Avg_Account_Balance'])\n",
    "plt.show()"
   ]
  },
  {
   "cell_type": "markdown",
   "metadata": {},
   "source": [
    "##### To reduce the skewness , log transformation is used ."
   ]
  },
  {
   "cell_type": "code",
   "execution_count": 26,
   "metadata": {},
   "outputs": [
    {
     "data": {
      "image/png": "[encoded data removed]",
      "text/plain": [
       "<Figure size 1080x720 with 1 Axes>"
      ]
     },
     "metadata": {
      "needs_background": "light"
     },
     "output_type": "display_data"
    }
   ],
   "source": [
    "#apply log transformation to reduce the skewness\n",
    "df_train['Avg_Account_Balance'] =np.log(df_train['Avg_Account_Balance'])\n",
    "sns.distplot(df_train['Avg_Account_Balance'])\n",
    "plt.show()"
   ]
  },
  {
   "cell_type": "code",
   "execution_count": 27,
   "metadata": {},
   "outputs": [
    {
     "data": {
      "image/png": "[encoded data removed]",
      "text/plain": [
       "<Figure size 1080x720 with 1 Axes>"
      ]
     },
     "metadata": {
      "needs_background": "light"
     },
     "output_type": "display_data"
    }
   ],
   "source": [
    "#apply log transformation to reduce the skewness\n",
    "df_test['Avg_Account_Balance'] =np.log(df_test['Avg_Account_Balance'])\n",
    "sns.distplot(df_test['Avg_Account_Balance'])\n",
    "plt.show()"
   ]
  },
  {
   "cell_type": "code",
   "execution_count": 28,
   "metadata": {},
   "outputs": [
    {
     "data": {
      "text/html": [
       "<div>\n",
       "<style scoped>\n",
       "    .dataframe tbody tr th:only-of-type {\n",
       "        vertical-align: middle;\n",
       "    }\n",
       "\n",
       "    .dataframe tbody tr th {\n",
       "        vertical-align: top;\n",
       "    }\n",
       "\n",
       "    .dataframe thead th {\n",
       "        text-align: right;\n",
       "    }\n",
       "</style>\n",
       "<table border=\"1\" class=\"dataframe\">\n",
       "  <thead>\n",
       "    <tr style=\"text-align: right;\">\n",
       "      <th></th>\n",
       "      <th>Skewness</th>\n",
       "      <th>Kurtosis</th>\n",
       "    </tr>\n",
       "  </thead>\n",
       "  <tbody>\n",
       "    <tr>\n",
       "      <th>Age</th>\n",
       "      <td>0.618992</td>\n",
       "      <td>-0.441273</td>\n",
       "    </tr>\n",
       "    <tr>\n",
       "      <th>Vintage</th>\n",
       "      <td>0.790189</td>\n",
       "      <td>-0.696540</td>\n",
       "    </tr>\n",
       "    <tr>\n",
       "      <th>Avg_Account_Balance</th>\n",
       "      <td>0.235178</td>\n",
       "      <td>0.306033</td>\n",
       "    </tr>\n",
       "  </tbody>\n",
       "</table>\n",
       "</div>"
      ],
      "text/plain": [
       "                     Skewness  Kurtosis\n",
       "Age                  0.618992 -0.441273\n",
       "Vintage              0.790189 -0.696540\n",
       "Avg_Account_Balance  0.235178  0.306033"
      ]
     },
     "execution_count": 28,
     "metadata": {},
     "output_type": "execute_result"
    }
   ],
   "source": [
    "# skewness & kurtosis after transformation in train \n",
    "pd.DataFrame({\"Skewness\": df_train[['Age','Vintage','Avg_Account_Balance']].skew(), \"Kurtosis\": df_train[['Age','Vintage','Avg_Account_Balance']].kurt()})"
   ]
  },
  {
   "cell_type": "code",
   "execution_count": 29,
   "metadata": {},
   "outputs": [
    {
     "data": {
      "text/html": [
       "<div>\n",
       "<style scoped>\n",
       "    .dataframe tbody tr th:only-of-type {\n",
       "        vertical-align: middle;\n",
       "    }\n",
       "\n",
       "    .dataframe tbody tr th {\n",
       "        vertical-align: top;\n",
       "    }\n",
       "\n",
       "    .dataframe thead th {\n",
       "        text-align: right;\n",
       "    }\n",
       "</style>\n",
       "<table border=\"1\" class=\"dataframe\">\n",
       "  <thead>\n",
       "    <tr style=\"text-align: right;\">\n",
       "      <th></th>\n",
       "      <th>Skewness</th>\n",
       "      <th>Kurtosis</th>\n",
       "    </tr>\n",
       "  </thead>\n",
       "  <tbody>\n",
       "    <tr>\n",
       "      <th>Age</th>\n",
       "      <td>0.628495</td>\n",
       "      <td>-0.423121</td>\n",
       "    </tr>\n",
       "    <tr>\n",
       "      <th>Vintage</th>\n",
       "      <td>0.791252</td>\n",
       "      <td>-0.689137</td>\n",
       "    </tr>\n",
       "    <tr>\n",
       "      <th>Avg_Account_Balance</th>\n",
       "      <td>0.251806</td>\n",
       "      <td>0.315495</td>\n",
       "    </tr>\n",
       "  </tbody>\n",
       "</table>\n",
       "</div>"
      ],
      "text/plain": [
       "                     Skewness  Kurtosis\n",
       "Age                  0.628495 -0.423121\n",
       "Vintage              0.791252 -0.689137\n",
       "Avg_Account_Balance  0.251806  0.315495"
      ]
     },
     "execution_count": 29,
     "metadata": {},
     "output_type": "execute_result"
    }
   ],
   "source": [
    "# skewness & kurtosis after transformation in test\n",
    "pd.DataFrame({\"Skewness\": df_test.skew(), \"Kurtosis\": df_test.kurt()})"
   ]
  },
  {
   "cell_type": "markdown",
   "metadata": {},
   "source": [
    "##### skewness and kurtosis is reduced for  'Avg_Account_Balance'"
   ]
  },
  {
   "cell_type": "code",
   "execution_count": 30,
   "metadata": {},
   "outputs": [
    {
     "data": {
      "image/png": "[encoded data removed]",
      "text/plain": [
       "<Figure size 1080x720 with 1 Axes>"
      ]
     },
     "metadata": {
      "needs_background": "light"
     },
     "output_type": "display_data"
    }
   ],
   "source": [
    "sns.boxplot(df_train['Avg_Account_Balance'])\n",
    "plt.show()"
   ]
  },
  {
   "cell_type": "code",
   "execution_count": 31,
   "metadata": {},
   "outputs": [
    {
     "data": {
      "image/png": "[encoded data removed]",
      "text/plain": [
       "<Figure size 1080x720 with 1 Axes>"
      ]
     },
     "metadata": {
      "needs_background": "light"
     },
     "output_type": "display_data"
    }
   ],
   "source": [
    "sns.boxplot(df_test['Avg_Account_Balance'])\n",
    "plt.show()"
   ]
  },
  {
   "cell_type": "code",
   "execution_count": 32,
   "metadata": {},
   "outputs": [
    {
     "data": {
      "text/html": [
       "<div>\n",
       "<style scoped>\n",
       "    .dataframe tbody tr th:only-of-type {\n",
       "        vertical-align: middle;\n",
       "    }\n",
       "\n",
       "    .dataframe tbody tr th {\n",
       "        vertical-align: top;\n",
       "    }\n",
       "\n",
       "    .dataframe thead th {\n",
       "        text-align: right;\n",
       "    }\n",
       "</style>\n",
       "<table border=\"1\" class=\"dataframe\">\n",
       "  <thead>\n",
       "    <tr style=\"text-align: right;\">\n",
       "      <th></th>\n",
       "      <th>Age</th>\n",
       "      <th>Vintage</th>\n",
       "      <th>Avg_Account_Balance</th>\n",
       "    </tr>\n",
       "  </thead>\n",
       "  <tbody>\n",
       "    <tr>\n",
       "      <th>Age</th>\n",
       "      <td>1.000000</td>\n",
       "      <td>0.631242</td>\n",
       "      <td>0.176838</td>\n",
       "    </tr>\n",
       "    <tr>\n",
       "      <th>Vintage</th>\n",
       "      <td>0.631242</td>\n",
       "      <td>1.000000</td>\n",
       "      <td>0.201592</td>\n",
       "    </tr>\n",
       "    <tr>\n",
       "      <th>Avg_Account_Balance</th>\n",
       "      <td>0.176838</td>\n",
       "      <td>0.201592</td>\n",
       "      <td>1.000000</td>\n",
       "    </tr>\n",
       "  </tbody>\n",
       "</table>\n",
       "</div>"
      ],
      "text/plain": [
       "                          Age   Vintage  Avg_Account_Balance\n",
       "Age                  1.000000  0.631242             0.176838\n",
       "Vintage              0.631242  1.000000             0.201592\n",
       "Avg_Account_Balance  0.176838  0.201592             1.000000"
      ]
     },
     "execution_count": 32,
     "metadata": {},
     "output_type": "execute_result"
    }
   ],
   "source": [
    "#correlation for train\n",
    "df_train[['Age','Vintage','Avg_Account_Balance']].corr()"
   ]
  },
  {
   "cell_type": "code",
   "execution_count": 33,
   "metadata": {},
   "outputs": [
    {
     "data": {
      "text/html": [
       "<div>\n",
       "<style scoped>\n",
       "    .dataframe tbody tr th:only-of-type {\n",
       "        vertical-align: middle;\n",
       "    }\n",
       "\n",
       "    .dataframe tbody tr th {\n",
       "        vertical-align: top;\n",
       "    }\n",
       "\n",
       "    .dataframe thead th {\n",
       "        text-align: right;\n",
       "    }\n",
       "</style>\n",
       "<table border=\"1\" class=\"dataframe\">\n",
       "  <thead>\n",
       "    <tr style=\"text-align: right;\">\n",
       "      <th></th>\n",
       "      <th>Age</th>\n",
       "      <th>Vintage</th>\n",
       "      <th>Avg_Account_Balance</th>\n",
       "    </tr>\n",
       "  </thead>\n",
       "  <tbody>\n",
       "    <tr>\n",
       "      <th>Age</th>\n",
       "      <td>1.000000</td>\n",
       "      <td>0.622310</td>\n",
       "      <td>0.169169</td>\n",
       "    </tr>\n",
       "    <tr>\n",
       "      <th>Vintage</th>\n",
       "      <td>0.622310</td>\n",
       "      <td>1.000000</td>\n",
       "      <td>0.200641</td>\n",
       "    </tr>\n",
       "    <tr>\n",
       "      <th>Avg_Account_Balance</th>\n",
       "      <td>0.169169</td>\n",
       "      <td>0.200641</td>\n",
       "      <td>1.000000</td>\n",
       "    </tr>\n",
       "  </tbody>\n",
       "</table>\n",
       "</div>"
      ],
      "text/plain": [
       "                          Age   Vintage  Avg_Account_Balance\n",
       "Age                  1.000000  0.622310             0.169169\n",
       "Vintage              0.622310  1.000000             0.200641\n",
       "Avg_Account_Balance  0.169169  0.200641             1.000000"
      ]
     },
     "execution_count": 33,
     "metadata": {},
     "output_type": "execute_result"
    }
   ],
   "source": [
    "#correlation for test\n",
    "df_test.corr()"
   ]
  },
  {
   "cell_type": "markdown",
   "metadata": {},
   "source": [
    "##### univariate, Bivariate,Multi variate analysis"
   ]
  },
  {
   "cell_type": "code",
   "execution_count": 34,
   "metadata": {},
   "outputs": [
    {
     "data": {
      "image/png": "[encoded data removed]",
      "text/plain": [
       "<Figure size 1080x720 with 2 Axes>"
      ]
     },
     "metadata": {
      "needs_background": "light"
     },
     "output_type": "display_data"
    }
   ],
   "source": [
    "sns.heatmap(df_train[['Age','Vintage','Avg_Account_Balance']].corr(),annot=True,cmap='PiYG')\n",
    "plt.show()"
   ]
  },
  {
   "cell_type": "code",
   "execution_count": 35,
   "metadata": {},
   "outputs": [
    {
     "data": {
      "image/png": "[encoded data removed]",
      "text/plain": [
       "<Figure size 1080x720 with 1 Axes>"
      ]
     },
     "metadata": {
      "needs_background": "light"
     },
     "output_type": "display_data"
    }
   ],
   "source": [
    "sns.countplot(df_train['Occupation'],hue=df_train['Is_Lead'])\n",
    "plt.show()"
   ]
  },
  {
   "cell_type": "code",
   "execution_count": 36,
   "metadata": {},
   "outputs": [
    {
     "data": {
      "image/png": "[encoded data removed]",
      "text/plain": [
       "<Figure size 1080x720 with 1 Axes>"
      ]
     },
     "metadata": {
      "needs_background": "light"
     },
     "output_type": "display_data"
    }
   ],
   "source": [
    "sns.countplot(df_train['Gender'],hue=df_train['Is_Lead'])\n",
    "plt.show()"
   ]
  },
  {
   "cell_type": "code",
   "execution_count": 37,
   "metadata": {},
   "outputs": [
    {
     "data": {
      "image/png": "[encoded data removed]",
      "text/plain": [
       "<Figure size 1080x720 with 1 Axes>"
      ]
     },
     "metadata": {
      "needs_background": "light"
     },
     "output_type": "display_data"
    }
   ],
   "source": [
    "sns.countplot(df_train['Region_Code'],hue=df_train['Is_Lead'])\n",
    "plt.xticks(rotation=30)\n",
    "plt.show()"
   ]
  },
  {
   "cell_type": "code",
   "execution_count": 38,
   "metadata": {},
   "outputs": [
    {
     "data": {
      "image/png": "[encoded data removed]",
      "text/plain": [
       "<Figure size 1080x720 with 1 Axes>"
      ]
     },
     "metadata": {
      "needs_background": "light"
     },
     "output_type": "display_data"
    }
   ],
   "source": [
    "sns.countplot(df_train['Channel_Code'],hue=df_train['Is_Lead'])\n",
    "plt.xticks(rotation=30)\n",
    "plt.show()"
   ]
  },
  {
   "cell_type": "code",
   "execution_count": 39,
   "metadata": {},
   "outputs": [
    {
     "data": {
      "image/png": "[encoded data removed]",
      "text/plain": [
       "<Figure size 1080x720 with 1 Axes>"
      ]
     },
     "metadata": {
      "needs_background": "light"
     },
     "output_type": "display_data"
    }
   ],
   "source": [
    "sns.countplot(df_train['Is_Active'],hue=df_train['Is_Lead'])\n",
    "plt.xticks(rotation=30)\n",
    "plt.show()"
   ]
  },
  {
   "cell_type": "code",
   "execution_count": 40,
   "metadata": {},
   "outputs": [
    {
     "data": {
      "image/png": "[encoded data removed]",
      "text/plain": [
       "<Figure size 1080x720 with 1 Axes>"
      ]
     },
     "metadata": {
      "needs_background": "light"
     },
     "output_type": "display_data"
    }
   ],
   "source": [
    "sns.countplot(df_train['Credit_Product'],hue=df_train['Is_Lead'])\n",
    "plt.xticks(rotation=30)\n",
    "plt.show()"
   ]
  },
  {
   "cell_type": "code",
   "execution_count": 41,
   "metadata": {},
   "outputs": [
    {
     "data": {
      "image/png": "[encoded data removed]",
      "text/plain": [
       "<Figure size 1080x720 with 1 Axes>"
      ]
     },
     "metadata": {
      "needs_background": "light"
     },
     "output_type": "display_data"
    }
   ],
   "source": [
    "df_train['Age'].plot(kind='kde')\n",
    "plt.xlabel('Age')\n",
    "plt.show()"
   ]
  },
  {
   "cell_type": "code",
   "execution_count": 42,
   "metadata": {},
   "outputs": [
    {
     "data": {
      "image/png": "[encoded data removed]",
      "text/plain": [
       "<Figure size 1080x720 with 1 Axes>"
      ]
     },
     "metadata": {
      "needs_background": "light"
     },
     "output_type": "display_data"
    }
   ],
   "source": [
    "df_train['Vintage'].plot(kind='kde')\n",
    "plt.xlabel('Vintage')\n",
    "plt.show()"
   ]
  },
  {
   "cell_type": "code",
   "execution_count": 43,
   "metadata": {},
   "outputs": [
    {
     "data": {
      "image/png": "[encoded data removed]",
      "text/plain": [
       "<Figure size 1080x720 with 1 Axes>"
      ]
     },
     "metadata": {
      "needs_background": "light"
     },
     "output_type": "display_data"
    }
   ],
   "source": [
    "sns.countplot(df_train['Is_Lead'])\n",
    "plt.show()"
   ]
  },
  {
   "cell_type": "markdown",
   "metadata": {},
   "source": [
    "# encoding for categorical variables"
   ]
  },
  {
   "cell_type": "code",
   "execution_count": 44,
   "metadata": {},
   "outputs": [],
   "source": [
    "#Label encoding for categorical variables in train data\n",
    "le = LabelEncoder()\n",
    "cat_col = ['Gender','Region_Code','Occupation','Channel_Code','Credit_Product','Is_Active']\n",
    "for i in cat_col:\n",
    "    df_train[i] =le.fit_transform(df_train[i])"
   ]
  },
  {
   "cell_type": "code",
   "execution_count": 45,
   "metadata": {},
   "outputs": [],
   "source": [
    "#Label encoding for categorical variables in test data\n",
    "le = LabelEncoder()\n",
    "cat_col = ['Gender','Region_Code','Occupation','Channel_Code','Credit_Product','Is_Active']\n",
    "for i in cat_col:\n",
    "    df_test[i]=le.fit_transform(df_test[i])"
   ]
  },
  {
   "cell_type": "code",
   "execution_count": 46,
   "metadata": {},
   "outputs": [
    {
     "data": {
      "text/html": [
       "<div>\n",
       "<style scoped>\n",
       "    .dataframe tbody tr th:only-of-type {\n",
       "        vertical-align: middle;\n",
       "    }\n",
       "\n",
       "    .dataframe tbody tr th {\n",
       "        vertical-align: top;\n",
       "    }\n",
       "\n",
       "    .dataframe thead th {\n",
       "        text-align: right;\n",
       "    }\n",
       "</style>\n",
       "<table border=\"1\" class=\"dataframe\">\n",
       "  <thead>\n",
       "    <tr style=\"text-align: right;\">\n",
       "      <th></th>\n",
       "      <th>ID</th>\n",
       "      <th>Gender</th>\n",
       "      <th>Age</th>\n",
       "      <th>Region_Code</th>\n",
       "      <th>Occupation</th>\n",
       "      <th>Channel_Code</th>\n",
       "      <th>Vintage</th>\n",
       "      <th>Credit_Product</th>\n",
       "      <th>Avg_Account_Balance</th>\n",
       "      <th>Is_Active</th>\n",
       "      <th>Is_Lead</th>\n",
       "    </tr>\n",
       "  </thead>\n",
       "  <tbody>\n",
       "    <tr>\n",
       "      <th>0</th>\n",
       "      <td>NNVBBKZB</td>\n",
       "      <td>0</td>\n",
       "      <td>73</td>\n",
       "      <td>18</td>\n",
       "      <td>1</td>\n",
       "      <td>2</td>\n",
       "      <td>43</td>\n",
       "      <td>0</td>\n",
       "      <td>13.860193</td>\n",
       "      <td>0</td>\n",
       "      <td>0</td>\n",
       "    </tr>\n",
       "    <tr>\n",
       "      <th>1</th>\n",
       "      <td>IDD62UNG</td>\n",
       "      <td>0</td>\n",
       "      <td>30</td>\n",
       "      <td>27</td>\n",
       "      <td>2</td>\n",
       "      <td>0</td>\n",
       "      <td>32</td>\n",
       "      <td>0</td>\n",
       "      <td>13.274205</td>\n",
       "      <td>0</td>\n",
       "      <td>0</td>\n",
       "    </tr>\n",
       "    <tr>\n",
       "      <th>2</th>\n",
       "      <td>HD3DSEMC</td>\n",
       "      <td>0</td>\n",
       "      <td>56</td>\n",
       "      <td>18</td>\n",
       "      <td>3</td>\n",
       "      <td>2</td>\n",
       "      <td>26</td>\n",
       "      <td>0</td>\n",
       "      <td>14.210464</td>\n",
       "      <td>1</td>\n",
       "      <td>0</td>\n",
       "    </tr>\n",
       "  </tbody>\n",
       "</table>\n",
       "</div>"
      ],
      "text/plain": [
       "         ID  Gender  Age  Region_Code  Occupation  Channel_Code  Vintage  \\\n",
       "0  NNVBBKZB       0   73           18           1             2       43   \n",
       "1  IDD62UNG       0   30           27           2             0       32   \n",
       "2  HD3DSEMC       0   56           18           3             2       26   \n",
       "\n",
       "   Credit_Product  Avg_Account_Balance  Is_Active  Is_Lead  \n",
       "0               0            13.860193          0        0  \n",
       "1               0            13.274205          0        0  \n",
       "2               0            14.210464          1        0  "
      ]
     },
     "execution_count": 46,
     "metadata": {},
     "output_type": "execute_result"
    }
   ],
   "source": [
    "#train data after encoding\n",
    "df_train.head(3)"
   ]
  },
  {
   "cell_type": "code",
   "execution_count": 47,
   "metadata": {},
   "outputs": [
    {
     "data": {
      "text/html": [
       "<div>\n",
       "<style scoped>\n",
       "    .dataframe tbody tr th:only-of-type {\n",
       "        vertical-align: middle;\n",
       "    }\n",
       "\n",
       "    .dataframe tbody tr th {\n",
       "        vertical-align: top;\n",
       "    }\n",
       "\n",
       "    .dataframe thead th {\n",
       "        text-align: right;\n",
       "    }\n",
       "</style>\n",
       "<table border=\"1\" class=\"dataframe\">\n",
       "  <thead>\n",
       "    <tr style=\"text-align: right;\">\n",
       "      <th></th>\n",
       "      <th>ID</th>\n",
       "      <th>Gender</th>\n",
       "      <th>Age</th>\n",
       "      <th>Region_Code</th>\n",
       "      <th>Occupation</th>\n",
       "      <th>Channel_Code</th>\n",
       "      <th>Vintage</th>\n",
       "      <th>Credit_Product</th>\n",
       "      <th>Avg_Account_Balance</th>\n",
       "      <th>Is_Active</th>\n",
       "    </tr>\n",
       "  </thead>\n",
       "  <tbody>\n",
       "    <tr>\n",
       "      <th>0</th>\n",
       "      <td>VBENBARO</td>\n",
       "      <td>1</td>\n",
       "      <td>29</td>\n",
       "      <td>4</td>\n",
       "      <td>1</td>\n",
       "      <td>0</td>\n",
       "      <td>25</td>\n",
       "      <td>1</td>\n",
       "      <td>13.517598</td>\n",
       "      <td>0</td>\n",
       "    </tr>\n",
       "    <tr>\n",
       "      <th>1</th>\n",
       "      <td>CCMEWNKY</td>\n",
       "      <td>1</td>\n",
       "      <td>43</td>\n",
       "      <td>18</td>\n",
       "      <td>1</td>\n",
       "      <td>1</td>\n",
       "      <td>49</td>\n",
       "      <td>0</td>\n",
       "      <td>13.738129</td>\n",
       "      <td>0</td>\n",
       "    </tr>\n",
       "    <tr>\n",
       "      <th>2</th>\n",
       "      <td>VK3KGA9M</td>\n",
       "      <td>1</td>\n",
       "      <td>31</td>\n",
       "      <td>20</td>\n",
       "      <td>2</td>\n",
       "      <td>0</td>\n",
       "      <td>14</td>\n",
       "      <td>0</td>\n",
       "      <td>12.282798</td>\n",
       "      <td>0</td>\n",
       "    </tr>\n",
       "  </tbody>\n",
       "</table>\n",
       "</div>"
      ],
      "text/plain": [
       "         ID  Gender  Age  Region_Code  Occupation  Channel_Code  Vintage  \\\n",
       "0  VBENBARO       1   29            4           1             0       25   \n",
       "1  CCMEWNKY       1   43           18           1             1       49   \n",
       "2  VK3KGA9M       1   31           20           2             0       14   \n",
       "\n",
       "   Credit_Product  Avg_Account_Balance  Is_Active  \n",
       "0               1            13.517598          0  \n",
       "1               0            13.738129          0  \n",
       "2               0            12.282798          0  "
      ]
     },
     "execution_count": 47,
     "metadata": {},
     "output_type": "execute_result"
    }
   ],
   "source": [
    "#test data after encoding\n",
    "df_test.head(3)"
   ]
  },
  {
   "cell_type": "code",
   "execution_count": 48,
   "metadata": {},
   "outputs": [
    {
     "data": {
      "text/plain": [
       "0    76.279174\n",
       "1    23.720826\n",
       "Name: Is_Lead, dtype: float64"
      ]
     },
     "execution_count": 48,
     "metadata": {},
     "output_type": "execute_result"
    }
   ],
   "source": [
    "#percentage of class in 'Is_lead' (target variable)\n",
    "df_train['Is_Lead'].value_counts()/len(df_train)*100"
   ]
  },
  {
   "cell_type": "markdown",
   "metadata": {},
   "source": [
    "# Model building"
   ]
  },
  {
   "cell_type": "markdown",
   "metadata": {},
   "source": [
    "#### Base model"
   ]
  },
  {
   "cell_type": "code",
   "execution_count": 49,
   "metadata": {},
   "outputs": [],
   "source": [
    "train =df_train.copy()\n",
    "test = df_test.copy()"
   ]
  },
  {
   "cell_type": "code",
   "execution_count": 50,
   "metadata": {},
   "outputs": [],
   "source": [
    "#split into x and y\n",
    "X = train.drop(['ID','Is_Lead'],axis=1)\n",
    "y = train['Is_Lead']"
   ]
  },
  {
   "cell_type": "code",
   "execution_count": 51,
   "metadata": {},
   "outputs": [],
   "source": [
    "X_train, X_test, y_train, y_test = train_test_split(X, y, random_state = 1000, test_size = 0.3)"
   ]
  },
  {
   "cell_type": "code",
   "execution_count": 52,
   "metadata": {},
   "outputs": [],
   "source": [
    "score_card = pd.DataFrame(columns=['Model','Precision Score','Recall Score','Accuracy Score','f1-score','AUC Score'])\n",
    "\n",
    "def scores(model_name,y_test,y_pred):\n",
    "    precision = (round(precision_score(y_test,y_pred),4))\n",
    "    recall    = (round(recall_score(y_test,y_pred),4))\n",
    "    accuracy  = (round(accuracy_score(y_test,y_pred),4) ) \n",
    "    f1        = (round(f1_score(y_test,y_pred),4))\n",
    "    auc       = (round(roc_auc_score(y_test, y_pred),4))\n",
    "    global score_card\n",
    "    score_card = score_card.append({'Model' : model_name,                              \n",
    "                                    'Precision Score': precision,\n",
    "                                    'Recall Score': recall,\n",
    "                                    'Accuracy Score': accuracy,\n",
    "                                    'f1-score': f1,\n",
    "                                    'AUC Score' : auc\n",
    "                                    },ignore_index = True)\n",
    "    return score_card.sort_values(by='Accuracy Score',ascending= False).reset_index(drop=True)\n",
    "    \n",
    "# Logistic Regression\n",
    "def log_reg(X_train,X_test, y_train,y_test):\n",
    "    lr = LogisticRegression()\n",
    "    lr = lr.fit(X_train, y_train)\n",
    "    pred = lr.predict(X_test)\n",
    "    name = 'Logistic Regression'\n",
    "    log_score = scores(name,y_test,pred)\n",
    "    train_pred = lr.predict(X_train)\n",
    "    return log_score\n",
    "\n",
    "# Decision Tree Classifier\n",
    "def dtree(X_train,X_test, y_train,y_test):\n",
    "    decision_tree = DecisionTreeClassifier()\n",
    "    dt_model = decision_tree.fit(X_train,y_train)\n",
    "    pred = dt_model.predict(X_test)\n",
    "    name = 'Decision Tree'\n",
    "    dt_score = scores(name,y_test,pred)\n",
    "    return dt_score\n",
    "\n",
    "#Random Forest Classifier\n",
    "def random(X_train,X_test, y_train,y_test):\n",
    "    rf = RandomForestClassifier()\n",
    "    rf_model = rf.fit(X_train,y_train)\n",
    "    pred = rf_model.predict(X_test)\n",
    "    name = 'Random Forest'\n",
    "    rf_score = scores(name,y_test,pred)\n",
    "    return rf_score\n",
    "\n",
    "#Ada Boost Classifier\n",
    "def ada(X_train,X_test, y_train,y_test):\n",
    "    ad = AdaBoostClassifier()\n",
    "    ad_model = ad.fit(X_train,y_train)\n",
    "    pred = ad_model.predict(X_test)\n",
    "    name = 'Ada Boost'\n",
    "    ad_score = scores(name,y_test,pred)\n",
    "    return ad_score\n",
    "\n",
    "#Gradient Boosting Classifier\n",
    "def gboost(X_train,X_test, y_train,y_test):\n",
    "    gb = GradientBoostingClassifier()\n",
    "    gb_model = gb.fit(X_train,y_train)\n",
    "    pred = gb_model.predict(X_test)\n",
    "    name = 'Gradient Boosting'\n",
    "    gb_score = scores(name,y_test,pred)\n",
    "    return gb_score\n",
    "\n",
    "#Bagging Classifier\n",
    "def bag(X_train,X_test, y_train,y_test):\n",
    "    bg = BaggingClassifier()\n",
    "    bg_model = bg.fit(X_train,y_train)\n",
    "    pred = bg_model.predict(X_test)\n",
    "    name = 'Bagging Classifier'\n",
    "    bg_score = scores(name,y_test,pred)\n",
    "    return bg_score\n",
    "\n",
    "#Extreme Gradient Boost Classifier\n",
    "def xgb(X_train,X_test, y_train,y_test):\n",
    "    xg = XGBClassifier()\n",
    "    xg_model = xg.fit(X_train,y_train)\n",
    "    pred = xg_model.predict(X_test)\n",
    "    name = 'Extreme Gradient Boost Classifier'\n",
    "    xg_score = scores(name,y_test,pred)\n",
    "    return xg_score\n"
   ]
  },
  {
   "cell_type": "code",
   "execution_count": 53,
   "metadata": {},
   "outputs": [
    {
     "name": "stdout",
     "output_type": "stream",
     "text": [
      "[12:53:02] WARNING: C:/Users/Administrator/workspace/xgboost-win64_release_1.3.0/src/learner.cc:1061: Starting in XGBoost 1.3.0, the default evaluation metric used with the objective 'binary:logistic' was changed from 'error' to 'logloss'. Explicitly set eval_metric if you'd like to restore the old behavior.\n"
     ]
    },
    {
     "data": {
      "text/html": [
       "<div>\n",
       "<style scoped>\n",
       "    .dataframe tbody tr th:only-of-type {\n",
       "        vertical-align: middle;\n",
       "    }\n",
       "\n",
       "    .dataframe tbody tr th {\n",
       "        vertical-align: top;\n",
       "    }\n",
       "\n",
       "    .dataframe thead th {\n",
       "        text-align: right;\n",
       "    }\n",
       "</style>\n",
       "<table border=\"1\" class=\"dataframe\">\n",
       "  <thead>\n",
       "    <tr style=\"text-align: right;\">\n",
       "      <th></th>\n",
       "      <th>Model</th>\n",
       "      <th>Precision Score</th>\n",
       "      <th>Recall Score</th>\n",
       "      <th>Accuracy Score</th>\n",
       "      <th>f1-score</th>\n",
       "      <th>AUC Score</th>\n",
       "    </tr>\n",
       "  </thead>\n",
       "  <tbody>\n",
       "    <tr>\n",
       "      <th>0</th>\n",
       "      <td>Extreme Gradient Boost Classifier</td>\n",
       "      <td>0.6448</td>\n",
       "      <td>0.2773</td>\n",
       "      <td>0.7923</td>\n",
       "      <td>0.3878</td>\n",
       "      <td>0.6149</td>\n",
       "    </tr>\n",
       "    <tr>\n",
       "      <th>1</th>\n",
       "      <td>Gradient Boosting</td>\n",
       "      <td>0.6928</td>\n",
       "      <td>0.2169</td>\n",
       "      <td>0.7914</td>\n",
       "      <td>0.3304</td>\n",
       "      <td>0.5935</td>\n",
       "    </tr>\n",
       "    <tr>\n",
       "      <th>2</th>\n",
       "      <td>Ada Boost</td>\n",
       "      <td>0.6347</td>\n",
       "      <td>0.1950</td>\n",
       "      <td>0.7824</td>\n",
       "      <td>0.2984</td>\n",
       "      <td>0.5801</td>\n",
       "    </tr>\n",
       "    <tr>\n",
       "      <th>3</th>\n",
       "      <td>Random Forest</td>\n",
       "      <td>0.5624</td>\n",
       "      <td>0.3166</td>\n",
       "      <td>0.7795</td>\n",
       "      <td>0.4051</td>\n",
       "      <td>0.6200</td>\n",
       "    </tr>\n",
       "    <tr>\n",
       "      <th>4</th>\n",
       "      <td>Bagging Classifier</td>\n",
       "      <td>0.5207</td>\n",
       "      <td>0.2978</td>\n",
       "      <td>0.7684</td>\n",
       "      <td>0.3789</td>\n",
       "      <td>0.6063</td>\n",
       "    </tr>\n",
       "    <tr>\n",
       "      <th>5</th>\n",
       "      <td>Logistic Regression</td>\n",
       "      <td>0.4155</td>\n",
       "      <td>0.0965</td>\n",
       "      <td>0.7535</td>\n",
       "      <td>0.1566</td>\n",
       "      <td>0.5271</td>\n",
       "    </tr>\n",
       "    <tr>\n",
       "      <th>6</th>\n",
       "      <td>Decision Tree</td>\n",
       "      <td>0.3967</td>\n",
       "      <td>0.4205</td>\n",
       "      <td>0.7108</td>\n",
       "      <td>0.4082</td>\n",
       "      <td>0.6108</td>\n",
       "    </tr>\n",
       "  </tbody>\n",
       "</table>\n",
       "</div>"
      ],
      "text/plain": [
       "                               Model  Precision Score  Recall Score  \\\n",
       "0  Extreme Gradient Boost Classifier           0.6448        0.2773   \n",
       "1                  Gradient Boosting           0.6928        0.2169   \n",
       "2                          Ada Boost           0.6347        0.1950   \n",
       "3                      Random Forest           0.5624        0.3166   \n",
       "4                 Bagging Classifier           0.5207        0.2978   \n",
       "5                Logistic Regression           0.4155        0.0965   \n",
       "6                      Decision Tree           0.3967        0.4205   \n",
       "\n",
       "   Accuracy Score  f1-score  AUC Score  \n",
       "0          0.7923    0.3878     0.6149  \n",
       "1          0.7914    0.3304     0.5935  \n",
       "2          0.7824    0.2984     0.5801  \n",
       "3          0.7795    0.4051     0.6200  \n",
       "4          0.7684    0.3789     0.6063  \n",
       "5          0.7535    0.1566     0.5271  \n",
       "6          0.7108    0.4082     0.6108  "
      ]
     },
     "execution_count": 53,
     "metadata": {},
     "output_type": "execute_result"
    }
   ],
   "source": [
    "log_reg(X_train, X_test, y_train, y_test)\n",
    "dtree(X_train, X_test, y_train, y_test)\n",
    "random(X_train, X_test, y_train, y_test)\n",
    "ada(X_train, X_test, y_train, y_test)\n",
    "gboost(X_train, X_test, y_train, y_test)\n",
    "bag(X_train, X_test, y_train, y_test)\n",
    "xgb(X_train, X_test, y_train, y_test)"
   ]
  },
  {
   "cell_type": "markdown",
   "metadata": {},
   "source": [
    "### The best performing base model based on Accuracy Score is Extreme Gradient Boost with a score of 0.7923 and corresponding AUC score is 0.6149"
   ]
  },
  {
   "cell_type": "markdown",
   "metadata": {},
   "source": [
    "### SMOTE technique"
   ]
  },
  {
   "cell_type": "code",
   "execution_count": 54,
   "metadata": {},
   "outputs": [],
   "source": [
    "#split into x and y\n",
    "X = train.drop(['ID','Is_Lead'],axis=1)\n",
    "y = train['Is_Lead']"
   ]
  },
  {
   "cell_type": "code",
   "execution_count": 55,
   "metadata": {},
   "outputs": [],
   "source": [
    "#smote technique for class imbalance\n",
    "s = SMOTE(random_state = 2)\n",
    "X_smot, y_smot = s.fit_resample(X, y)"
   ]
  },
  {
   "cell_type": "code",
   "execution_count": 56,
   "metadata": {},
   "outputs": [
    {
     "data": {
      "text/plain": [
       "((374874, 9), (374874,))"
      ]
     },
     "execution_count": 56,
     "metadata": {},
     "output_type": "execute_result"
    }
   ],
   "source": [
    "#shape of x and y \n",
    "X_smot.shape, y_smot.shape"
   ]
  },
  {
   "cell_type": "code",
   "execution_count": 57,
   "metadata": {},
   "outputs": [],
   "source": [
    "X_train, X_test, y_train, y_test = train_test_split(X_smot, y_smot, random_state = 1000, test_size = 0.3)"
   ]
  },
  {
   "cell_type": "code",
   "execution_count": 58,
   "metadata": {},
   "outputs": [],
   "source": [
    "score_card = pd.DataFrame(columns=['Model','Precision Score','Recall Score','Accuracy Score','f1-score','AUC Score'])\n",
    "\n",
    "def scores(model_name,y_test,y_pred):\n",
    "    precision = (round(precision_score(y_test,y_pred),4))\n",
    "    recall    = (round(recall_score(y_test,y_pred),4))\n",
    "    accuracy  = (round(accuracy_score(y_test,y_pred),4) ) \n",
    "    f1        = (round(f1_score(y_test,y_pred),4))\n",
    "    auc       = (round(roc_auc_score(y_test, y_pred),4))\n",
    "    global score_card\n",
    "    score_card = score_card.append({'Model' : model_name,                              \n",
    "                                    'Precision Score': precision,\n",
    "                                    'Recall Score': recall,\n",
    "                                    'Accuracy Score': accuracy,\n",
    "                                    'f1-score': f1,\n",
    "                                    'AUC Score' : auc\n",
    "                                    },ignore_index = True)\n",
    "    return score_card.sort_values(by='Accuracy Score',ascending= False).reset_index(drop=True)\n",
    "    \n",
    "# Logistic Regression\n",
    "def log_reg(X_train,X_test, y_train,y_test):\n",
    "    lr = LogisticRegression()\n",
    "    lr = lr.fit(X_train, y_train)\n",
    "    pred = lr.predict(X_test)\n",
    "    name = 'Logistic Regression'\n",
    "    log_score = scores(name,y_test,pred)\n",
    "    train_pred = lr.predict(X_train)\n",
    "    return log_score\n",
    "\n",
    "# Decision Tree Classifier\n",
    "def dtree(X_train,X_test, y_train,y_test):\n",
    "    decision_tree = DecisionTreeClassifier()\n",
    "    dt_model = decision_tree.fit(X_train,y_train)\n",
    "    pred = dt_model.predict(X_test)\n",
    "    name = 'Decision Tree'\n",
    "    dt_score = scores(name,y_test,pred)\n",
    "    return dt_score\n",
    "\n",
    "#Random Forest Classifier\n",
    "def random(X_train,X_test, y_train,y_test):\n",
    "    rf = RandomForestClassifier()\n",
    "    rf_model = rf.fit(X_train,y_train)\n",
    "    pred = rf_model.predict(X_test)\n",
    "    name = 'Random Forest'\n",
    "    rf_score = scores(name,y_test,pred)\n",
    "    return rf_score\n",
    "\n",
    "#Ada Boost Classifier\n",
    "def ada(X_train,X_test, y_train,y_test):\n",
    "    ad = AdaBoostClassifier()\n",
    "    ad_model = ad.fit(X_train,y_train)\n",
    "    pred = ad_model.predict(X_test)\n",
    "    name = 'Ada Boost'\n",
    "    ad_score = scores(name,y_test,pred)\n",
    "    return ad_score\n",
    "\n",
    "#Gradient Boosting Classifier\n",
    "def gboost(X_train,X_test, y_train,y_test):\n",
    "    gb = GradientBoostingClassifier()\n",
    "    gb_model = gb.fit(X_train,y_train)\n",
    "    pred = gb_model.predict(X_test)\n",
    "    name = 'Gradient Boosting'\n",
    "    gb_score = scores(name,y_test,pred)\n",
    "    return gb_score\n",
    "\n",
    "#Bagging Classifier\n",
    "def bag(X_train,X_test, y_train,y_test):\n",
    "    bg = BaggingClassifier()\n",
    "    bg_model = bg.fit(X_train,y_train)\n",
    "    pred = bg_model.predict(X_test)\n",
    "    name = 'Bagging Classifier'\n",
    "    bg_score = scores(name,y_test,pred)\n",
    "    return bg_score\n",
    "\n",
    "#Extreme Gradient Boost Classifier\n",
    "def xgb(X_train,X_test, y_train,y_test):\n",
    "    xg = XGBClassifier()\n",
    "    xg_model = xg.fit(X_train,y_train)\n",
    "    pred = xg_model.predict(X_test)\n",
    "    name = 'Extreme Gradient Boost Classifier'\n",
    "    xg_score = scores(name,y_test,pred)\n",
    "    return xg_score"
   ]
  },
  {
   "cell_type": "code",
   "execution_count": 59,
   "metadata": {},
   "outputs": [
    {
     "name": "stdout",
     "output_type": "stream",
     "text": [
      "[12:54:42] WARNING: C:/Users/Administrator/workspace/xgboost-win64_release_1.3.0/src/learner.cc:1061: Starting in XGBoost 1.3.0, the default evaluation metric used with the objective 'binary:logistic' was changed from 'error' to 'logloss'. Explicitly set eval_metric if you'd like to restore the old behavior.\n"
     ]
    },
    {
     "data": {
      "text/html": [
       "<div>\n",
       "<style scoped>\n",
       "    .dataframe tbody tr th:only-of-type {\n",
       "        vertical-align: middle;\n",
       "    }\n",
       "\n",
       "    .dataframe tbody tr th {\n",
       "        vertical-align: top;\n",
       "    }\n",
       "\n",
       "    .dataframe thead th {\n",
       "        text-align: right;\n",
       "    }\n",
       "</style>\n",
       "<table border=\"1\" class=\"dataframe\">\n",
       "  <thead>\n",
       "    <tr style=\"text-align: right;\">\n",
       "      <th></th>\n",
       "      <th>Model</th>\n",
       "      <th>Precision Score</th>\n",
       "      <th>Recall Score</th>\n",
       "      <th>Accuracy Score</th>\n",
       "      <th>f1-score</th>\n",
       "      <th>AUC Score</th>\n",
       "    </tr>\n",
       "  </thead>\n",
       "  <tbody>\n",
       "    <tr>\n",
       "      <th>0</th>\n",
       "      <td>Random Forest</td>\n",
       "      <td>0.7726</td>\n",
       "      <td>0.8011</td>\n",
       "      <td>0.7833</td>\n",
       "      <td>0.7866</td>\n",
       "      <td>0.7834</td>\n",
       "    </tr>\n",
       "    <tr>\n",
       "      <th>1</th>\n",
       "      <td>Bagging Classifier</td>\n",
       "      <td>0.7662</td>\n",
       "      <td>0.7336</td>\n",
       "      <td>0.7556</td>\n",
       "      <td>0.7495</td>\n",
       "      <td>0.7555</td>\n",
       "    </tr>\n",
       "    <tr>\n",
       "      <th>2</th>\n",
       "      <td>Extreme Gradient Boost Classifier</td>\n",
       "      <td>0.7375</td>\n",
       "      <td>0.7345</td>\n",
       "      <td>0.7374</td>\n",
       "      <td>0.7360</td>\n",
       "      <td>0.7374</td>\n",
       "    </tr>\n",
       "    <tr>\n",
       "      <th>3</th>\n",
       "      <td>Gradient Boosting</td>\n",
       "      <td>0.7152</td>\n",
       "      <td>0.7439</td>\n",
       "      <td>0.7247</td>\n",
       "      <td>0.7293</td>\n",
       "      <td>0.7247</td>\n",
       "    </tr>\n",
       "    <tr>\n",
       "      <th>4</th>\n",
       "      <td>Decision Tree</td>\n",
       "      <td>0.7009</td>\n",
       "      <td>0.7341</td>\n",
       "      <td>0.7113</td>\n",
       "      <td>0.7171</td>\n",
       "      <td>0.7113</td>\n",
       "    </tr>\n",
       "    <tr>\n",
       "      <th>5</th>\n",
       "      <td>Ada Boost</td>\n",
       "      <td>0.6934</td>\n",
       "      <td>0.7357</td>\n",
       "      <td>0.7061</td>\n",
       "      <td>0.7140</td>\n",
       "      <td>0.7062</td>\n",
       "    </tr>\n",
       "    <tr>\n",
       "      <th>6</th>\n",
       "      <td>Logistic Regression</td>\n",
       "      <td>0.6585</td>\n",
       "      <td>0.6437</td>\n",
       "      <td>0.6560</td>\n",
       "      <td>0.6510</td>\n",
       "      <td>0.6559</td>\n",
       "    </tr>\n",
       "  </tbody>\n",
       "</table>\n",
       "</div>"
      ],
      "text/plain": [
       "                               Model  Precision Score  Recall Score  \\\n",
       "0                      Random Forest           0.7726        0.8011   \n",
       "1                 Bagging Classifier           0.7662        0.7336   \n",
       "2  Extreme Gradient Boost Classifier           0.7375        0.7345   \n",
       "3                  Gradient Boosting           0.7152        0.7439   \n",
       "4                      Decision Tree           0.7009        0.7341   \n",
       "5                          Ada Boost           0.6934        0.7357   \n",
       "6                Logistic Regression           0.6585        0.6437   \n",
       "\n",
       "   Accuracy Score  f1-score  AUC Score  \n",
       "0          0.7833    0.7866     0.7834  \n",
       "1          0.7556    0.7495     0.7555  \n",
       "2          0.7374    0.7360     0.7374  \n",
       "3          0.7247    0.7293     0.7247  \n",
       "4          0.7113    0.7171     0.7113  \n",
       "5          0.7061    0.7140     0.7062  \n",
       "6          0.6560    0.6510     0.6559  "
      ]
     },
     "execution_count": 59,
     "metadata": {},
     "output_type": "execute_result"
    }
   ],
   "source": [
    "log_reg(X_train, X_test, y_train, y_test)\n",
    "dtree(X_train, X_test, y_train, y_test)\n",
    "random(X_train, X_test, y_train, y_test)\n",
    "ada(X_train, X_test, y_train, y_test)\n",
    "gboost(X_train, X_test, y_train, y_test)\n",
    "bag(X_train, X_test, y_train, y_test)\n",
    "xgb(X_train, X_test, y_train, y_test)"
   ]
  },
  {
   "cell_type": "markdown",
   "metadata": {},
   "source": [
    "### The best performing model using SMOTE based on Accuracy Score is Random Forest with a score of 0.7833 and corresponding AUC score is 0.7834"
   ]
  },
  {
   "cell_type": "markdown",
   "metadata": {},
   "source": [
    "## Hyper parameter tuning"
   ]
  },
  {
   "cell_type": "markdown",
   "metadata": {},
   "source": [
    "### XGB"
   ]
  },
  {
   "cell_type": "code",
   "execution_count": 60,
   "metadata": {},
   "outputs": [],
   "source": [
    "params = {'learning_rate': [0.0001, 0.001, 0.01,0.1],\n",
    "        'n_estimators':range(20,201,10),\n",
    "        'max_depth':range(5,51,5),\n",
    "        'min_samples_split':range(100,5001,500),\n",
    "        'subsample':np.arange(0,1,0.1),\n",
    "        'min_child_weight': range(0,20,5),\n",
    "        'gamma': np.arange(0.0,5,0.5),\n",
    "        'subsample': np.arange(0.0,1,0.2)\n",
    "        }"
   ]
  },
  {
   "cell_type": "code",
   "execution_count": 61,
   "metadata": {},
   "outputs": [],
   "source": [
    "xgb = XGBClassifier()"
   ]
  },
  {
   "cell_type": "code",
   "execution_count": 64,
   "metadata": {},
   "outputs": [
    {
     "name": "stdout",
     "output_type": "stream",
     "text": [
      "Fitting 10 folds for each of 5 candidates, totalling 50 fits\n",
      "[13:18:49] WARNING: C:/Users/Administrator/workspace/xgboost-win64_release_1.3.0/src/learner.cc:541: \n",
      "Parameters: { min_samples_split } might not be used.\n",
      "\n",
      "  This may not be accurate due to some parameters are only used in language bindings but\n",
      "  passed down to XGBoost core.  Or some parameters are not used but slip through this\n",
      "  verification. Please open an issue if you find above cases.\n",
      "\n",
      "\n",
      "[13:18:50] WARNING: C:/Users/Administrator/workspace/xgboost-win64_release_1.3.0/src/learner.cc:1061: Starting in XGBoost 1.3.0, the default evaluation metric used with the objective 'binary:logistic' was changed from 'error' to 'logloss'. Explicitly set eval_metric if you'd like to restore the old behavior.\n"
     ]
    },
    {
     "data": {
      "text/plain": [
       "{'subsample': 0.4,\n",
       " 'n_estimators': 30,\n",
       " 'min_samples_split': 4600,\n",
       " 'min_child_weight': 0,\n",
       " 'max_depth': 45,\n",
       " 'learning_rate': 0.0001,\n",
       " 'gamma': 2.0}"
      ]
     },
     "execution_count": 64,
     "metadata": {},
     "output_type": "execute_result"
    }
   ],
   "source": [
    "folds = 10\n",
    "param_comb = 5\n",
    "\n",
    "skf = StratifiedKFold(n_splits=folds, shuffle = True, random_state = 1001)\n",
    "\n",
    "random_search = RandomizedSearchCV(xgb, param_distributions=params, n_iter=param_comb, scoring='accuracy', n_jobs=4, cv=skf.split(X_train, y_train), verbose=3, random_state=1001 )\n",
    "random_search.fit(X_train, y_train)\n",
    "random_search.best_params_"
   ]
  },
  {
   "cell_type": "markdown",
   "metadata": {},
   "source": [
    "### Random forest"
   ]
  },
  {
   "cell_type": "code",
   "execution_count": 65,
   "metadata": {},
   "outputs": [
    {
     "name": "stdout",
     "output_type": "stream",
     "text": [
      "Fitting 10 folds for each of 5 candidates, totalling 50 fits\n"
     ]
    },
    {
     "data": {
      "text/plain": [
       "{'n_estimators': 370, 'max_features': 'log2', 'criterion': 'entropy'}"
      ]
     },
     "execution_count": 65,
     "metadata": {},
     "output_type": "execute_result"
    }
   ],
   "source": [
    "tuned_parameters = [{'n_estimators':range(20,501,50),'max_features': ['auto', 'sqrt', 'log2'],'criterion':['gini','entropy']}]\n",
    "\n",
    "folds = 10\n",
    "param_comb = 5\n",
    "rf_model = RandomForestClassifier()\n",
    "\n",
    "skf = StratifiedKFold(n_splits=folds, shuffle = True, random_state = 1001)\n",
    "\n",
    "random_search = RandomizedSearchCV(rf_model , param_distributions=tuned_parameters, n_iter=param_comb, scoring='accuracy', n_jobs=4, cv=skf.split(X_train, y_train), verbose=3, random_state=1001 )\n",
    "random_search.fit(X_train, y_train)\n",
    "random_search.best_params_"
   ]
  },
  {
   "cell_type": "code",
   "execution_count": 76,
   "metadata": {},
   "outputs": [],
   "source": [
    "X_train, X_test, y_train, y_test = train_test_split(X_smot, y_smot, random_state = 1000, test_size = 0.3)"
   ]
  },
  {
   "cell_type": "code",
   "execution_count": 68,
   "metadata": {},
   "outputs": [],
   "source": [
    "score_card = pd.DataFrame(columns=['Model','Precision Score','Recall Score','Accuracy Score','f1-score','AUC Score'])\n",
    "\n",
    "def scores(model_name,y_test,y_pred):\n",
    "    precision = (round(precision_score(y_test,y_pred),4))\n",
    "    recall    = (round(recall_score(y_test,y_pred),4))\n",
    "    accuracy  = (round(accuracy_score(y_test,y_pred),4) ) \n",
    "    f1        = (round(f1_score(y_test,y_pred),4))\n",
    "    auc       = (round(roc_auc_score(y_test, y_pred),4))\n",
    "    global score_card\n",
    "    score_card = score_card.append({'Model' : model_name,                              \n",
    "                                    'Precision Score': precision,\n",
    "                                    'Recall Score': recall,\n",
    "                                    'Accuracy Score': accuracy,\n",
    "                                    'f1-score': f1,\n",
    "                                    'AUC Score' : auc\n",
    "                                    },ignore_index = True)\n",
    "    return score_card.sort_values(by='Accuracy Score',ascending= False).reset_index(drop=True)\n",
    "\n",
    "\n",
    "def xgb_fet_grid(X_train,X_test, y_train,y_test):\n",
    "    xg = XGBClassifier(subsample=0.4, n_estimators= 30, min_samples_split= 4600, min_child_weight= 0,max_depth= 45, \n",
    "                       learning_rate= 0.0001, gamma = 2.0)\n",
    "    xg_model = xg.fit(X_train,y_train)\n",
    "    pred = xg_model.predict(X_test)\n",
    "    name = 'Extreme Gradient Boost Classifier'\n",
    "    xg_score = scores(name,y_test,pred)\n",
    "    return xg_score\n",
    "\n",
    "\n",
    "#Random Forest Classifier\n",
    "def random_fet_grid(X_train,X_test, y_train,y_test):\n",
    "    rf = RandomForestClassifier(n_estimators= 370, max_features='log2', criterion='entropy')\n",
    "    rfe_rf = RFE(estimator = rf)\n",
    "    rf_model = rfe_rf.fit(X_train,y_train)\n",
    "    pred = rf_model.predict(X_test)\n",
    "    name = 'Random Forest'\n",
    "    rf_score = scores(name,y_test,pred)\n",
    "    return rf_score"
   ]
  },
  {
   "cell_type": "code",
   "execution_count": 70,
   "metadata": {},
   "outputs": [
    {
     "name": "stdout",
     "output_type": "stream",
     "text": [
      "[14:52:23] WARNING: C:/Users/Administrator/workspace/xgboost-win64_release_1.3.0/src/learner.cc:541: \n",
      "Parameters: { min_samples_split } might not be used.\n",
      "\n",
      "  This may not be accurate due to some parameters are only used in language bindings but\n",
      "  passed down to XGBoost core.  Or some parameters are not used but slip through this\n",
      "  verification. Please open an issue if you find above cases.\n",
      "\n",
      "\n",
      "[14:52:23] WARNING: C:/Users/Administrator/workspace/xgboost-win64_release_1.3.0/src/learner.cc:1061: Starting in XGBoost 1.3.0, the default evaluation metric used with the objective 'binary:logistic' was changed from 'error' to 'logloss'. Explicitly set eval_metric if you'd like to restore the old behavior.\n"
     ]
    },
    {
     "data": {
      "text/html": [
       "<div>\n",
       "<style scoped>\n",
       "    .dataframe tbody tr th:only-of-type {\n",
       "        vertical-align: middle;\n",
       "    }\n",
       "\n",
       "    .dataframe tbody tr th {\n",
       "        vertical-align: top;\n",
       "    }\n",
       "\n",
       "    .dataframe thead th {\n",
       "        text-align: right;\n",
       "    }\n",
       "</style>\n",
       "<table border=\"1\" class=\"dataframe\">\n",
       "  <thead>\n",
       "    <tr style=\"text-align: right;\">\n",
       "      <th></th>\n",
       "      <th>Model</th>\n",
       "      <th>Precision Score</th>\n",
       "      <th>Recall Score</th>\n",
       "      <th>Accuracy Score</th>\n",
       "      <th>f1-score</th>\n",
       "      <th>AUC Score</th>\n",
       "    </tr>\n",
       "  </thead>\n",
       "  <tbody>\n",
       "    <tr>\n",
       "      <th>0</th>\n",
       "      <td>Extreme Gradient Boost Classifier</td>\n",
       "      <td>0.7506</td>\n",
       "      <td>0.7537</td>\n",
       "      <td>0.7524</td>\n",
       "      <td>0.7522</td>\n",
       "      <td>0.7524</td>\n",
       "    </tr>\n",
       "    <tr>\n",
       "      <th>1</th>\n",
       "      <td>Random Forest</td>\n",
       "      <td>0.6975</td>\n",
       "      <td>0.7432</td>\n",
       "      <td>0.7113</td>\n",
       "      <td>0.7196</td>\n",
       "      <td>0.7114</td>\n",
       "    </tr>\n",
       "  </tbody>\n",
       "</table>\n",
       "</div>"
      ],
      "text/plain": [
       "                               Model  Precision Score  Recall Score  \\\n",
       "0  Extreme Gradient Boost Classifier           0.7506        0.7537   \n",
       "1                      Random Forest           0.6975        0.7432   \n",
       "\n",
       "   Accuracy Score  f1-score  AUC Score  \n",
       "0          0.7524    0.7522     0.7524  \n",
       "1          0.7113    0.7196     0.7114  "
      ]
     },
     "execution_count": 70,
     "metadata": {},
     "output_type": "execute_result"
    }
   ],
   "source": [
    "xgb_fet_grid(X_train,X_test, y_train,y_test)\n",
    "random_fet_grid(X_train,X_test, y_train,y_test)"
   ]
  },
  {
   "cell_type": "markdown",
   "metadata": {},
   "source": [
    "#### Extreme Gradient boost gives the accuracy of 0.7524 ."
   ]
  },
  {
   "cell_type": "code",
   "execution_count": 78,
   "metadata": {},
   "outputs": [],
   "source": [
    "def get_train_report(model,X_train,y_train):\n",
    "    train_pred = model.fit(X_train,y_train).predict(X_train)\n",
    "    return f'\\nTrain report : \\n {classification_report(y_train, train_pred)}'\n",
    "\n",
    "def get_test_report(model,X_test,y_test):\n",
    "    test_pred = model.fit(X_test,y_test).predict(X_test)\n",
    "    return f'\\nTest report : \\n {classification_report(y_test, test_pred)}'"
   ]
  },
  {
   "cell_type": "code",
   "execution_count": 79,
   "metadata": {},
   "outputs": [],
   "source": [
    "xg = XGBClassifier(subsample=0.4, n_estimators= 30, min_samples_split= 4600, min_child_weight= 0,max_depth= 45, \n",
    "                       learning_rate= 0.0001, gamma = 2.0)"
   ]
  },
  {
   "cell_type": "code",
   "execution_count": 81,
   "metadata": {},
   "outputs": [
    {
     "name": "stdout",
     "output_type": "stream",
     "text": [
      "Extreme Gradient Boosting :\n",
      "\n",
      "[20:11:54] WARNING: C:/Users/Administrator/workspace/xgboost-win64_release_1.3.0/src/learner.cc:541: \n",
      "Parameters: { min_samples_split } might not be used.\n",
      "\n",
      "  This may not be accurate due to some parameters are only used in language bindings but\n",
      "  passed down to XGBoost core.  Or some parameters are not used but slip through this\n",
      "  verification. Please open an issue if you find above cases.\n",
      "\n",
      "\n",
      "[20:11:54] WARNING: C:/Users/Administrator/workspace/xgboost-win64_release_1.3.0/src/learner.cc:1061: Starting in XGBoost 1.3.0, the default evaluation metric used with the objective 'binary:logistic' was changed from 'error' to 'logloss'. Explicitly set eval_metric if you'd like to restore the old behavior.\n",
      "\n",
      "Train report : \n",
      "               precision    recall  f1-score   support\n",
      "\n",
      "           0       0.82      0.82      0.82    131034\n",
      "           1       0.82      0.82      0.82    131377\n",
      "\n",
      "    accuracy                           0.82    262411\n",
      "   macro avg       0.82      0.82      0.82    262411\n",
      "weighted avg       0.82      0.82      0.82    262411\n",
      "\n",
      "[20:12:22] WARNING: C:/Users/Administrator/workspace/xgboost-win64_release_1.3.0/src/learner.cc:541: \n",
      "Parameters: { min_samples_split } might not be used.\n",
      "\n",
      "  This may not be accurate due to some parameters are only used in language bindings but\n",
      "  passed down to XGBoost core.  Or some parameters are not used but slip through this\n",
      "  verification. Please open an issue if you find above cases.\n",
      "\n",
      "\n",
      "[20:12:22] WARNING: C:/Users/Administrator/workspace/xgboost-win64_release_1.3.0/src/learner.cc:1061: Starting in XGBoost 1.3.0, the default evaluation metric used with the objective 'binary:logistic' was changed from 'error' to 'logloss'. Explicitly set eval_metric if you'd like to restore the old behavior.\n",
      "\n",
      "Test report : \n",
      "               precision    recall  f1-score   support\n",
      "\n",
      "           0       0.81      0.81      0.81     56403\n",
      "           1       0.81      0.80      0.81     56060\n",
      "\n",
      "    accuracy                           0.81    112463\n",
      "   macro avg       0.81      0.81      0.81    112463\n",
      "weighted avg       0.81      0.81      0.81    112463\n",
      "\n",
      "*************************************************************************************\n"
     ]
    }
   ],
   "source": [
    "print('Extreme Gradient Boosting :\\n')\n",
    "print(get_train_report(xg,X_train,y_train))\n",
    "print(get_test_report(xg,X_test,y_test))\n",
    "print('*'*85)"
   ]
  },
  {
   "cell_type": "code",
   "execution_count": 83,
   "metadata": {},
   "outputs": [],
   "source": [
    "conf_mat = pd.DataFrame(columns=['Model','Precision','Sensitivity','Correct_classfication','Misclassfication'])\n",
    "\n",
    "def plot_confusion_matrix(model,name,X_train,X_test, y_train,y_test):\n",
    "    mod = model.fit(X_train, y_train)\n",
    "    y_pred = mod.predict(X_test)\n",
    "    cm = confusion_matrix(y_test, y_pred)\n",
    "\n",
    "    conf_matrix = pd.DataFrame(data = cm,columns = ['Predicted:0','Predicted:1'], index = ['Actual:0','Actual:1'])\n",
    "        \n",
    "    sns.heatmap(conf_matrix, annot = True, fmt = 'd', cmap = 'PiYG', cbar = False,linewidths = 0.1, annot_kws = {'size':25})\n",
    "    plt.xticks(fontsize = 20)\n",
    "    plt.yticks(fontsize = 20)\n",
    "    plt.show()\n",
    "    \n",
    "    TN = cm[0,0]\n",
    "    TP = cm[1,1]\n",
    "    FP = cm[0,1]\n",
    "    FN = cm[1,0]\n",
    "    precision = (TP/(TP+FP))*100\n",
    "    sensitivity =(TP/(TP+FN))*100\n",
    "    correct_classfication =((TN+TP)/(TP+TN+FP+FN))*100\n",
    "    misclassfication = ((FN+FP)/(TP+TN+FP+FN))*100\n",
    "    global conf_mat\n",
    "    conf_mat = conf_mat.append({'Model' : name,                              \n",
    "                                    'Precision': precision,\n",
    "                                    'Sensitivity': sensitivity,\n",
    "                                    'Correct_classfication': correct_classfication,\n",
    "                                    'Misclassfication': misclassfication,\n",
    "                                    },ignore_index = True)\n",
    "    return conf_mat\n",
    "    "
   ]
  },
  {
   "cell_type": "code",
   "execution_count": 85,
   "metadata": {},
   "outputs": [
    {
     "name": "stdout",
     "output_type": "stream",
     "text": [
      "Extreme Gradient Boosting :\n",
      "\n",
      "[20:15:18] WARNING: C:/Users/Administrator/workspace/xgboost-win64_release_1.3.0/src/learner.cc:541: \n",
      "Parameters: { min_samples_split } might not be used.\n",
      "\n",
      "  This may not be accurate due to some parameters are only used in language bindings but\n",
      "  passed down to XGBoost core.  Or some parameters are not used but slip through this\n",
      "  verification. Please open an issue if you find above cases.\n",
      "\n",
      "\n",
      "[20:15:19] WARNING: C:/Users/Administrator/workspace/xgboost-win64_release_1.3.0/src/learner.cc:1061: Starting in XGBoost 1.3.0, the default evaluation metric used with the objective 'binary:logistic' was changed from 'error' to 'logloss'. Explicitly set eval_metric if you'd like to restore the old behavior.\n"
     ]
    },
    {
     "data": {
      "image/png": "[encoded data removed]",
      "text/plain": [
       "<Figure size 1080x720 with 1 Axes>"
      ]
     },
     "metadata": {
      "needs_background": "light"
     },
     "output_type": "display_data"
    },
    {
     "name": "stdout",
     "output_type": "stream",
     "text": [
      "                       Model  Precision  Sensitivity  Correct_classfication  \\\n",
      "0  Extreme Gradient Boosting  75.060399    75.371031              75.239857   \n",
      "\n",
      "   Misclassfication  \n",
      "0         24.760143  \n",
      "*************************************************************************************\n"
     ]
    }
   ],
   "source": [
    "print('Extreme Gradient Boosting :\\n')\n",
    "print(plot_confusion_matrix(xg,'Extreme Gradient Boosting',X_train,X_test, y_train,y_test))\n",
    "print('*'*85)"
   ]
  },
  {
   "cell_type": "markdown",
   "metadata": {},
   "source": [
    "### Feature Importance:"
   ]
  },
  {
   "cell_type": "code",
   "execution_count": 86,
   "metadata": {},
   "outputs": [
    {
     "data": {
      "image/png": "[encoded data removed]",
      "text/plain": [
       "<Figure size 1080x720 with 1 Axes>"
      ]
     },
     "metadata": {
      "needs_background": "light"
     },
     "output_type": "display_data"
    }
   ],
   "source": [
    "# create a dataframe that stores the feature names and their importance\n",
    "# 'feature_importances_' returns the features based on the gini importance\n",
    "important_features = pd.DataFrame({'Features': X_train.columns, \n",
    "                                   'Importance': xg.feature_importances_})\n",
    "\n",
    "# sort the dataframe in the descending order according to the feature importance\n",
    "important_features = important_features.sort_values('Importance', ascending = False)\n",
    "\n",
    "# create a barplot to visualize the features based on their importance\n",
    "sns.barplot(x = 'Importance', y = 'Features', data = important_features)\n",
    "\n",
    "# add plot and axes labels\n",
    "# set text size using 'fontsize'\n",
    "plt.title('Feature Importance', fontsize = 15)\n",
    "plt.xlabel('Importance', fontsize = 15)\n",
    "plt.ylabel('Features', fontsize = 15)\n",
    "\n",
    "# display the plot\n",
    "plt.show()"
   ]
  },
  {
   "cell_type": "markdown",
   "metadata": {},
   "source": [
    "##### 'Occupation' Feature plays a vital role in predicting the credit card lead."
   ]
  },
  {
   "cell_type": "markdown",
   "metadata": {},
   "source": [
    "# Finally generate test results for sample submission"
   ]
  },
  {
   "cell_type": "code",
   "execution_count": 87,
   "metadata": {},
   "outputs": [
    {
     "name": "stdout",
     "output_type": "stream",
     "text": [
      "[20:22:05] WARNING: C:/Users/Administrator/workspace/xgboost-win64_release_1.3.0/src/learner.cc:541: \n",
      "Parameters: { min_samples_split } might not be used.\n",
      "\n",
      "  This may not be accurate due to some parameters are only used in language bindings but\n",
      "  passed down to XGBoost core.  Or some parameters are not used but slip through this\n",
      "  verification. Please open an issue if you find above cases.\n",
      "\n",
      "\n",
      "[20:22:05] WARNING: C:/Users/Administrator/workspace/xgboost-win64_release_1.3.0/src/learner.cc:1061: Starting in XGBoost 1.3.0, the default evaluation metric used with the objective 'binary:logistic' was changed from 'error' to 'logloss'. Explicitly set eval_metric if you'd like to restore the old behavior.\n"
     ]
    },
    {
     "data": {
      "text/plain": [
       "array([[0.5013757 , 0.4986243 ],\n",
       "       [0.5010567 , 0.49894336],\n",
       "       [0.5012925 , 0.49870747],\n",
       "       ...,\n",
       "       [0.49993223, 0.5000678 ],\n",
       "       [0.50012016, 0.49987987],\n",
       "       [0.5012925 , 0.49870747]], dtype=float32)"
      ]
     },
     "execution_count": 87,
     "metadata": {},
     "output_type": "execute_result"
    }
   ],
   "source": [
    "train = df_train.drop(['ID','Is_Lead'],axis=1)\n",
    "test = df_test.drop(['ID'],axis=1)\n",
    "ytrain = df_train['Is_Lead']\n",
    "\n",
    "model = XGBClassifier(subsample=0.4, n_estimators= 30, min_samples_split= 4600, min_child_weight= 0,max_depth= 45, \n",
    "                       learning_rate= 0.0001, gamma = 2.0)\n",
    "model.fit(train, ytrain) # training the model\n",
    "\n",
    "prediction = model.predict_proba(test) # predicting on the test set\n",
    "prediction"
   ]
  },
  {
   "cell_type": "code",
   "execution_count": 88,
   "metadata": {},
   "outputs": [
    {
     "data": {
      "text/plain": [
       "array([0, 0, 0, ..., 1, 0, 0], dtype=int64)"
      ]
     },
     "execution_count": 88,
     "metadata": {},
     "output_type": "execute_result"
    }
   ],
   "source": [
    "predict1 = model.predict(test) # predicting on the test set\n",
    "predict1"
   ]
  },
  {
   "cell_type": "code",
   "execution_count": 89,
   "metadata": {},
   "outputs": [],
   "source": [
    "#creating dataframe\n",
    "df5 = pd.DataFrame({\"ID\":df_test['ID'],\"Is_Lead\": predict1})"
   ]
  },
  {
   "cell_type": "code",
   "execution_count": 104,
   "metadata": {},
   "outputs": [
    {
     "data": {
      "text/plain": [
       "0    88.978464\n",
       "1    11.021536\n",
       "Name: Is_Lead, dtype: float64"
      ]
     },
     "execution_count": 104,
     "metadata": {},
     "output_type": "execute_result"
    }
   ],
   "source": [
    "#checking the counts\n",
    "df5['Is_Lead'].value_counts()/len(df5)*100"
   ]
  },
  {
   "cell_type": "code",
   "execution_count": 92,
   "metadata": {},
   "outputs": [],
   "source": [
    "df6 = pd.DataFrame({\"ID\":df_test['ID']})"
   ]
  },
  {
   "cell_type": "code",
   "execution_count": 103,
   "metadata": {},
   "outputs": [
    {
     "data": {
      "text/plain": [
       "0    88.976565\n",
       "1    11.023435\n",
       "Name: Is_Lead, dtype: float64"
      ]
     },
     "execution_count": 103,
     "metadata": {},
     "output_type": "execute_result"
    }
   ],
   "source": [
    "prediction_int = prediction[:,1] >= 0.5# if prediction is greater than or equal to 0.3 than 1 else 0\n",
    "prediction_int = prediction_int.astype(np.int)\n",
    "\n",
    "# prediction_int = model.predict(test)\n",
    "\n",
    "df6['Is_Lead'] = list(prediction_int)\n",
    "df6['Is_Lead'].value_counts()/len(df6)*100"
   ]
  },
  {
   "cell_type": "code",
   "execution_count": 105,
   "metadata": {},
   "outputs": [],
   "source": [
    "#save the data with ID and predicted value\n",
    "df5.to_csv('submission_file.csv',index=False)"
   ]
  },
  {
   "cell_type": "code",
   "execution_count": null,
   "metadata": {},
   "outputs": [],
   "source": []
  }
 ],
 "metadata": {
  "kernelspec": {
   "display_name": "Python 3",
   "language": "python",
   "name": "python3"
  },
  "language_info": {
   "codemirror_mode": {
    "name": "ipython",
    "version": 3
   },
   "file_extension": ".py",
   "mimetype": "text/x-python",
   "name": "python",
   "nbconvert_exporter": "python",
   "pygments_lexer": "ipython3",
   "version": "3.8.3"
  }
 },
 "nbformat": 4,
 "nbformat_minor": 4
}
